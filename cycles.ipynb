{
 "cells": [
  {
   "cell_type": "markdown",
   "id": "6e4682a8",
   "metadata": {},
   "source": [
    "# **Problem Statement**\n",
    "\n",
    "Identifying the varibles that are significant in predicting the demand of shared electric cycles of a leading indian startup in the Indian market and how well they describe the demands, by leveraging the data of total number of cycles in use at different date&time and analyzing the common factors that could affect the demand, like seasons, holidays, workingdays, weather, temperature, humidity and windspeed, thus helping the business make better decisions."
   ]
  },
  {
   "cell_type": "code",
   "execution_count": 60,
   "id": "541292b7",
   "metadata": {},
   "outputs": [],
   "source": [
    "#importing required libraries\n",
    "\n",
    "import numpy as np\n",
    "import pandas as pd\n",
    "import matplotlib.pyplot as plt\n",
    "import seaborn as sns\n",
    "import scipy.stats as stats\n",
    "import statsmodels.api as sm"
   ]
  },
  {
   "cell_type": "code",
   "execution_count": 61,
   "id": "294b8760",
   "metadata": {},
   "outputs": [],
   "source": [
    "#importing data set\n",
    "\n",
    "df = pd.read_csv('bike.csv')"
   ]
  },
  {
   "cell_type": "code",
   "execution_count": 62,
   "id": "45d037da",
   "metadata": {},
   "outputs": [
    {
     "data": {
      "text/html": [
       "<div>\n",
       "<style scoped>\n",
       "    .dataframe tbody tr th:only-of-type {\n",
       "        vertical-align: middle;\n",
       "    }\n",
       "\n",
       "    .dataframe tbody tr th {\n",
       "        vertical-align: top;\n",
       "    }\n",
       "\n",
       "    .dataframe thead th {\n",
       "        text-align: right;\n",
       "    }\n",
       "</style>\n",
       "<table border=\"1\" class=\"dataframe\">\n",
       "  <thead>\n",
       "    <tr style=\"text-align: right;\">\n",
       "      <th></th>\n",
       "      <th>datetime</th>\n",
       "      <th>season</th>\n",
       "      <th>holiday</th>\n",
       "      <th>workingday</th>\n",
       "      <th>weather</th>\n",
       "      <th>temp</th>\n",
       "      <th>atemp</th>\n",
       "      <th>humidity</th>\n",
       "      <th>windspeed</th>\n",
       "      <th>casual</th>\n",
       "      <th>registered</th>\n",
       "      <th>count</th>\n",
       "    </tr>\n",
       "  </thead>\n",
       "  <tbody>\n",
       "    <tr>\n",
       "      <th>0</th>\n",
       "      <td>2011-01-01 00:00:00</td>\n",
       "      <td>1</td>\n",
       "      <td>0</td>\n",
       "      <td>0</td>\n",
       "      <td>1</td>\n",
       "      <td>9.84</td>\n",
       "      <td>14.395</td>\n",
       "      <td>81</td>\n",
       "      <td>0.0</td>\n",
       "      <td>3</td>\n",
       "      <td>13</td>\n",
       "      <td>16</td>\n",
       "    </tr>\n",
       "    <tr>\n",
       "      <th>1</th>\n",
       "      <td>2011-01-01 01:00:00</td>\n",
       "      <td>1</td>\n",
       "      <td>0</td>\n",
       "      <td>0</td>\n",
       "      <td>1</td>\n",
       "      <td>9.02</td>\n",
       "      <td>13.635</td>\n",
       "      <td>80</td>\n",
       "      <td>0.0</td>\n",
       "      <td>8</td>\n",
       "      <td>32</td>\n",
       "      <td>40</td>\n",
       "    </tr>\n",
       "    <tr>\n",
       "      <th>2</th>\n",
       "      <td>2011-01-01 02:00:00</td>\n",
       "      <td>1</td>\n",
       "      <td>0</td>\n",
       "      <td>0</td>\n",
       "      <td>1</td>\n",
       "      <td>9.02</td>\n",
       "      <td>13.635</td>\n",
       "      <td>80</td>\n",
       "      <td>0.0</td>\n",
       "      <td>5</td>\n",
       "      <td>27</td>\n",
       "      <td>32</td>\n",
       "    </tr>\n",
       "    <tr>\n",
       "      <th>3</th>\n",
       "      <td>2011-01-01 03:00:00</td>\n",
       "      <td>1</td>\n",
       "      <td>0</td>\n",
       "      <td>0</td>\n",
       "      <td>1</td>\n",
       "      <td>9.84</td>\n",
       "      <td>14.395</td>\n",
       "      <td>75</td>\n",
       "      <td>0.0</td>\n",
       "      <td>3</td>\n",
       "      <td>10</td>\n",
       "      <td>13</td>\n",
       "    </tr>\n",
       "    <tr>\n",
       "      <th>4</th>\n",
       "      <td>2011-01-01 04:00:00</td>\n",
       "      <td>1</td>\n",
       "      <td>0</td>\n",
       "      <td>0</td>\n",
       "      <td>1</td>\n",
       "      <td>9.84</td>\n",
       "      <td>14.395</td>\n",
       "      <td>75</td>\n",
       "      <td>0.0</td>\n",
       "      <td>0</td>\n",
       "      <td>1</td>\n",
       "      <td>1</td>\n",
       "    </tr>\n",
       "  </tbody>\n",
       "</table>\n",
       "</div>"
      ],
      "text/plain": [
       "              datetime  season  holiday  workingday  weather  temp   atemp  \\\n",
       "0  2011-01-01 00:00:00       1        0           0        1  9.84  14.395   \n",
       "1  2011-01-01 01:00:00       1        0           0        1  9.02  13.635   \n",
       "2  2011-01-01 02:00:00       1        0           0        1  9.02  13.635   \n",
       "3  2011-01-01 03:00:00       1        0           0        1  9.84  14.395   \n",
       "4  2011-01-01 04:00:00       1        0           0        1  9.84  14.395   \n",
       "\n",
       "   humidity  windspeed  casual  registered  count  \n",
       "0        81        0.0       3          13     16  \n",
       "1        80        0.0       8          32     40  \n",
       "2        80        0.0       5          27     32  \n",
       "3        75        0.0       3          10     13  \n",
       "4        75        0.0       0           1      1  "
      ]
     },
     "execution_count": 62,
     "metadata": {},
     "output_type": "execute_result"
    }
   ],
   "source": [
    "df.head()"
   ]
  },
  {
   "cell_type": "code",
   "execution_count": 63,
   "id": "5598ae5a",
   "metadata": {},
   "outputs": [
    {
     "data": {
      "text/html": [
       "<div>\n",
       "<style scoped>\n",
       "    .dataframe tbody tr th:only-of-type {\n",
       "        vertical-align: middle;\n",
       "    }\n",
       "\n",
       "    .dataframe tbody tr th {\n",
       "        vertical-align: top;\n",
       "    }\n",
       "\n",
       "    .dataframe thead th {\n",
       "        text-align: right;\n",
       "    }\n",
       "</style>\n",
       "<table border=\"1\" class=\"dataframe\">\n",
       "  <thead>\n",
       "    <tr style=\"text-align: right;\">\n",
       "      <th></th>\n",
       "      <th>datetime</th>\n",
       "      <th>season</th>\n",
       "      <th>holiday</th>\n",
       "      <th>workingday</th>\n",
       "      <th>weather</th>\n",
       "      <th>temp</th>\n",
       "      <th>atemp</th>\n",
       "      <th>humidity</th>\n",
       "      <th>windspeed</th>\n",
       "      <th>casual</th>\n",
       "      <th>registered</th>\n",
       "      <th>count</th>\n",
       "    </tr>\n",
       "  </thead>\n",
       "  <tbody>\n",
       "    <tr>\n",
       "      <th>10881</th>\n",
       "      <td>2012-12-19 19:00:00</td>\n",
       "      <td>4</td>\n",
       "      <td>0</td>\n",
       "      <td>1</td>\n",
       "      <td>1</td>\n",
       "      <td>15.58</td>\n",
       "      <td>19.695</td>\n",
       "      <td>50</td>\n",
       "      <td>26.0027</td>\n",
       "      <td>7</td>\n",
       "      <td>329</td>\n",
       "      <td>336</td>\n",
       "    </tr>\n",
       "    <tr>\n",
       "      <th>10882</th>\n",
       "      <td>2012-12-19 20:00:00</td>\n",
       "      <td>4</td>\n",
       "      <td>0</td>\n",
       "      <td>1</td>\n",
       "      <td>1</td>\n",
       "      <td>14.76</td>\n",
       "      <td>17.425</td>\n",
       "      <td>57</td>\n",
       "      <td>15.0013</td>\n",
       "      <td>10</td>\n",
       "      <td>231</td>\n",
       "      <td>241</td>\n",
       "    </tr>\n",
       "    <tr>\n",
       "      <th>10883</th>\n",
       "      <td>2012-12-19 21:00:00</td>\n",
       "      <td>4</td>\n",
       "      <td>0</td>\n",
       "      <td>1</td>\n",
       "      <td>1</td>\n",
       "      <td>13.94</td>\n",
       "      <td>15.910</td>\n",
       "      <td>61</td>\n",
       "      <td>15.0013</td>\n",
       "      <td>4</td>\n",
       "      <td>164</td>\n",
       "      <td>168</td>\n",
       "    </tr>\n",
       "    <tr>\n",
       "      <th>10884</th>\n",
       "      <td>2012-12-19 22:00:00</td>\n",
       "      <td>4</td>\n",
       "      <td>0</td>\n",
       "      <td>1</td>\n",
       "      <td>1</td>\n",
       "      <td>13.94</td>\n",
       "      <td>17.425</td>\n",
       "      <td>61</td>\n",
       "      <td>6.0032</td>\n",
       "      <td>12</td>\n",
       "      <td>117</td>\n",
       "      <td>129</td>\n",
       "    </tr>\n",
       "    <tr>\n",
       "      <th>10885</th>\n",
       "      <td>2012-12-19 23:00:00</td>\n",
       "      <td>4</td>\n",
       "      <td>0</td>\n",
       "      <td>1</td>\n",
       "      <td>1</td>\n",
       "      <td>13.12</td>\n",
       "      <td>16.665</td>\n",
       "      <td>66</td>\n",
       "      <td>8.9981</td>\n",
       "      <td>4</td>\n",
       "      <td>84</td>\n",
       "      <td>88</td>\n",
       "    </tr>\n",
       "  </tbody>\n",
       "</table>\n",
       "</div>"
      ],
      "text/plain": [
       "                  datetime  season  holiday  workingday  weather   temp  \\\n",
       "10881  2012-12-19 19:00:00       4        0           1        1  15.58   \n",
       "10882  2012-12-19 20:00:00       4        0           1        1  14.76   \n",
       "10883  2012-12-19 21:00:00       4        0           1        1  13.94   \n",
       "10884  2012-12-19 22:00:00       4        0           1        1  13.94   \n",
       "10885  2012-12-19 23:00:00       4        0           1        1  13.12   \n",
       "\n",
       "        atemp  humidity  windspeed  casual  registered  count  \n",
       "10881  19.695        50    26.0027       7         329    336  \n",
       "10882  17.425        57    15.0013      10         231    241  \n",
       "10883  15.910        61    15.0013       4         164    168  \n",
       "10884  17.425        61     6.0032      12         117    129  \n",
       "10885  16.665        66     8.9981       4          84     88  "
      ]
     },
     "execution_count": 63,
     "metadata": {},
     "output_type": "execute_result"
    }
   ],
   "source": [
    "df.tail()"
   ]
  },
  {
   "cell_type": "code",
   "execution_count": 64,
   "id": "787e3d37",
   "metadata": {},
   "outputs": [
    {
     "data": {
      "text/plain": [
       "(10886, 12)"
      ]
     },
     "execution_count": 64,
     "metadata": {},
     "output_type": "execute_result"
    }
   ],
   "source": [
    "df.shape"
   ]
  },
  {
   "cell_type": "code",
   "execution_count": 65,
   "id": "de404d27",
   "metadata": {},
   "outputs": [
    {
     "name": "stdout",
     "output_type": "stream",
     "text": [
      "There are 10886 rows and 12 columns in the dataset\n",
      "Each row represents the number of cycles in use at every hour with various factors affecting the demand\n"
     ]
    }
   ],
   "source": [
    "print(f'There are {df.shape[0]} rows and {df.shape[1]} columns in the dataset')\n",
    "print(f'Each row represents the number of cycles in use at every hour with various factors affecting the demand')"
   ]
  },
  {
   "cell_type": "code",
   "execution_count": 66,
   "id": "dc984242",
   "metadata": {},
   "outputs": [
    {
     "name": "stdout",
     "output_type": "stream",
     "text": [
      "<class 'pandas.core.frame.DataFrame'>\n",
      "RangeIndex: 10886 entries, 0 to 10885\n",
      "Data columns (total 12 columns):\n",
      " #   Column      Non-Null Count  Dtype  \n",
      "---  ------      --------------  -----  \n",
      " 0   datetime    10886 non-null  object \n",
      " 1   season      10886 non-null  int64  \n",
      " 2   holiday     10886 non-null  int64  \n",
      " 3   workingday  10886 non-null  int64  \n",
      " 4   weather     10886 non-null  int64  \n",
      " 5   temp        10886 non-null  float64\n",
      " 6   atemp       10886 non-null  float64\n",
      " 7   humidity    10886 non-null  int64  \n",
      " 8   windspeed   10886 non-null  float64\n",
      " 9   casual      10886 non-null  int64  \n",
      " 10  registered  10886 non-null  int64  \n",
      " 11  count       10886 non-null  int64  \n",
      "dtypes: float64(3), int64(8), object(1)\n",
      "memory usage: 1020.7+ KB\n"
     ]
    }
   ],
   "source": [
    "#data overiew - non-null counts and data types\n",
    "\n",
    "df.info()"
   ]
  },
  {
   "cell_type": "markdown",
   "id": "14af33ae",
   "metadata": {},
   "source": [
    "- Time series variable of type object - datetime\n",
    "- Categorical variables of type int - season, holiday, workingday, weather\n",
    "- Numerical(Continuous) variable of type int/float - temp, atemp, humidity, windspeed, casual, registered, count"
   ]
  },
  {
   "cell_type": "code",
   "execution_count": 67,
   "id": "3bfa17db",
   "metadata": {},
   "outputs": [
    {
     "data": {
      "text/plain": [
       "datetime      0.0\n",
       "season        0.0\n",
       "holiday       0.0\n",
       "workingday    0.0\n",
       "weather       0.0\n",
       "temp          0.0\n",
       "atemp         0.0\n",
       "humidity      0.0\n",
       "windspeed     0.0\n",
       "casual        0.0\n",
       "registered    0.0\n",
       "count         0.0\n",
       "dtype: float64"
      ]
     },
     "execution_count": 67,
     "metadata": {},
     "output_type": "execute_result"
    }
   ],
   "source": [
    "#percentage of null values in each column\n",
    "\n",
    "df.isnull().sum()*100/df.isnull().count()"
   ]
  },
  {
   "cell_type": "markdown",
   "id": "e6060449",
   "metadata": {},
   "source": [
    "There is no null value in the data set"
   ]
  },
  {
   "cell_type": "markdown",
   "id": "e09ce1d9",
   "metadata": {},
   "source": [
    "# **Non-Graphical Analysis**"
   ]
  },
  {
   "cell_type": "code",
   "execution_count": 68,
   "id": "399303ea",
   "metadata": {},
   "outputs": [
    {
     "data": {
      "text/plain": [
       "datetime      10886\n",
       "season            4\n",
       "holiday           2\n",
       "workingday        2\n",
       "weather           4\n",
       "temp             49\n",
       "atemp            60\n",
       "humidity         89\n",
       "windspeed        28\n",
       "casual          309\n",
       "registered      731\n",
       "count           822\n",
       "dtype: int64"
      ]
     },
     "execution_count": 68,
     "metadata": {},
     "output_type": "execute_result"
    }
   ],
   "source": [
    "#number of unique values\n",
    "\n",
    "df.nunique()"
   ]
  },
  {
   "cell_type": "code",
   "execution_count": 69,
   "id": "a288535a",
   "metadata": {},
   "outputs": [
    {
     "data": {
      "text/plain": [
       "0       2011-01-01 00:00:00\n",
       "1       2011-01-01 01:00:00\n",
       "2       2011-01-01 02:00:00\n",
       "3       2011-01-01 03:00:00\n",
       "4       2011-01-01 04:00:00\n",
       "                ...        \n",
       "10881   2012-12-19 19:00:00\n",
       "10882   2012-12-19 20:00:00\n",
       "10883   2012-12-19 21:00:00\n",
       "10884   2012-12-19 22:00:00\n",
       "10885   2012-12-19 23:00:00\n",
       "Name: datetime, Length: 10886, dtype: datetime64[ns]"
      ]
     },
     "execution_count": 69,
     "metadata": {},
     "output_type": "execute_result"
    }
   ],
   "source": [
    "#converting column datetime type to pandas datetime64\n",
    "df['datetime'] = pd.to_datetime(df['datetime'])\n",
    "df['datetime']"
   ]
  },
  {
   "cell_type": "markdown",
   "id": "ac5a73a4",
   "metadata": {},
   "source": [
    "- Range of datetime is 2011-01-01 00:00:00 - 2012-12-19 23:00:00 with one hour intervals"
   ]
  },
  {
   "cell_type": "markdown",
   "id": "f8ac1bfc",
   "metadata": {},
   "source": [
    "**Checking value counts of categorical columns**"
   ]
  },
  {
   "cell_type": "code",
   "execution_count": 70,
   "id": "55d40b1b",
   "metadata": {},
   "outputs": [
    {
     "data": {
      "text/plain": [
       "4    2734\n",
       "2    2733\n",
       "3    2733\n",
       "1    2686\n",
       "Name: season, dtype: int64"
      ]
     },
     "execution_count": 70,
     "metadata": {},
     "output_type": "execute_result"
    }
   ],
   "source": [
    "#checking column season\n",
    "\n",
    "df['season'].value_counts()"
   ]
  },
  {
   "cell_type": "markdown",
   "id": "13ab7647",
   "metadata": {},
   "source": [
    "- season is divided into 4 categories 1-4; spring, summer, fall and winter respectively"
   ]
  },
  {
   "cell_type": "code",
   "execution_count": 71,
   "id": "e22de2f5",
   "metadata": {},
   "outputs": [
    {
     "data": {
      "text/plain": [
       "0    10575\n",
       "1      311\n",
       "Name: holiday, dtype: int64"
      ]
     },
     "execution_count": 71,
     "metadata": {},
     "output_type": "execute_result"
    }
   ],
   "source": [
    "#checking column holiday\n",
    "\n",
    "df['holiday'].value_counts()"
   ]
  },
  {
   "cell_type": "markdown",
   "id": "49d3099e",
   "metadata": {},
   "source": [
    "- holiday is a binary variable with 1 being a holiday and 0, not a holiday"
   ]
  },
  {
   "cell_type": "code",
   "execution_count": 72,
   "id": "b8fa31b6",
   "metadata": {},
   "outputs": [
    {
     "data": {
      "text/plain": [
       "1    7412\n",
       "0    3474\n",
       "Name: workingday, dtype: int64"
      ]
     },
     "execution_count": 72,
     "metadata": {},
     "output_type": "execute_result"
    }
   ],
   "source": [
    "#checking column workingday\n",
    "\n",
    "df['workingday'].value_counts()"
   ]
  },
  {
   "cell_type": "markdown",
   "id": "8b332b05",
   "metadata": {},
   "source": [
    "- workingday is a binary variable with 1 being a workingday and 0, not a workingday/ a weekend day"
   ]
  },
  {
   "cell_type": "code",
   "execution_count": 73,
   "id": "d7a4ab9f",
   "metadata": {},
   "outputs": [
    {
     "data": {
      "text/plain": [
       "1    7192\n",
       "2    2834\n",
       "3     859\n",
       "4       1\n",
       "Name: weather, dtype: int64"
      ]
     },
     "execution_count": 73,
     "metadata": {},
     "output_type": "execute_result"
    }
   ],
   "source": [
    "#checking column weather\n",
    "\n",
    "df['weather'].value_counts()"
   ]
  },
  {
   "cell_type": "markdown",
   "id": "8c581fc1",
   "metadata": {},
   "source": [
    "- weather is divided into 4 categories 1-4\n",
    "    1. Clear, Few clouds, partly cloudy\n",
    "    2. Mist + Cloudy, Mist + Broken clouds, Mist + Few clouds, Mist\n",
    "    3. Light Snow, Light Rain + Thunderstorm + Scattered clouds, Light Rain + Scattered clouds\n",
    "    4. Heavy Rain + Ice Pallets + Thunderstorm + Mist, Snow + Fog"
   ]
  },
  {
   "cell_type": "markdown",
   "id": "f600b342",
   "metadata": {},
   "source": [
    "**Checking descriptive statistics of continuous columns**"
   ]
  },
  {
   "cell_type": "code",
   "execution_count": 74,
   "id": "9e88d85f",
   "metadata": {},
   "outputs": [
    {
     "data": {
      "text/html": [
       "<div>\n",
       "<style scoped>\n",
       "    .dataframe tbody tr th:only-of-type {\n",
       "        vertical-align: middle;\n",
       "    }\n",
       "\n",
       "    .dataframe tbody tr th {\n",
       "        vertical-align: top;\n",
       "    }\n",
       "\n",
       "    .dataframe thead th {\n",
       "        text-align: right;\n",
       "    }\n",
       "</style>\n",
       "<table border=\"1\" class=\"dataframe\">\n",
       "  <thead>\n",
       "    <tr style=\"text-align: right;\">\n",
       "      <th></th>\n",
       "      <th>temp</th>\n",
       "      <th>atemp</th>\n",
       "      <th>humidity</th>\n",
       "      <th>windspeed</th>\n",
       "      <th>casual</th>\n",
       "      <th>registered</th>\n",
       "      <th>count</th>\n",
       "    </tr>\n",
       "  </thead>\n",
       "  <tbody>\n",
       "    <tr>\n",
       "      <th>count</th>\n",
       "      <td>10886.00</td>\n",
       "      <td>10886.00</td>\n",
       "      <td>10886.00</td>\n",
       "      <td>10886.00</td>\n",
       "      <td>10886.00</td>\n",
       "      <td>10886.00</td>\n",
       "      <td>10886.00</td>\n",
       "    </tr>\n",
       "    <tr>\n",
       "      <th>mean</th>\n",
       "      <td>20.23</td>\n",
       "      <td>23.66</td>\n",
       "      <td>61.89</td>\n",
       "      <td>12.80</td>\n",
       "      <td>36.02</td>\n",
       "      <td>155.55</td>\n",
       "      <td>191.57</td>\n",
       "    </tr>\n",
       "    <tr>\n",
       "      <th>std</th>\n",
       "      <td>7.79</td>\n",
       "      <td>8.47</td>\n",
       "      <td>19.25</td>\n",
       "      <td>8.16</td>\n",
       "      <td>49.96</td>\n",
       "      <td>151.04</td>\n",
       "      <td>181.14</td>\n",
       "    </tr>\n",
       "    <tr>\n",
       "      <th>min</th>\n",
       "      <td>0.82</td>\n",
       "      <td>0.76</td>\n",
       "      <td>0.00</td>\n",
       "      <td>0.00</td>\n",
       "      <td>0.00</td>\n",
       "      <td>0.00</td>\n",
       "      <td>1.00</td>\n",
       "    </tr>\n",
       "    <tr>\n",
       "      <th>25%</th>\n",
       "      <td>13.94</td>\n",
       "      <td>16.66</td>\n",
       "      <td>47.00</td>\n",
       "      <td>7.00</td>\n",
       "      <td>4.00</td>\n",
       "      <td>36.00</td>\n",
       "      <td>42.00</td>\n",
       "    </tr>\n",
       "    <tr>\n",
       "      <th>50%</th>\n",
       "      <td>20.50</td>\n",
       "      <td>24.24</td>\n",
       "      <td>62.00</td>\n",
       "      <td>13.00</td>\n",
       "      <td>17.00</td>\n",
       "      <td>118.00</td>\n",
       "      <td>145.00</td>\n",
       "    </tr>\n",
       "    <tr>\n",
       "      <th>75%</th>\n",
       "      <td>26.24</td>\n",
       "      <td>31.06</td>\n",
       "      <td>77.00</td>\n",
       "      <td>17.00</td>\n",
       "      <td>49.00</td>\n",
       "      <td>222.00</td>\n",
       "      <td>284.00</td>\n",
       "    </tr>\n",
       "    <tr>\n",
       "      <th>max</th>\n",
       "      <td>41.00</td>\n",
       "      <td>45.46</td>\n",
       "      <td>100.00</td>\n",
       "      <td>57.00</td>\n",
       "      <td>367.00</td>\n",
       "      <td>886.00</td>\n",
       "      <td>977.00</td>\n",
       "    </tr>\n",
       "  </tbody>\n",
       "</table>\n",
       "</div>"
      ],
      "text/plain": [
       "           temp     atemp  humidity  windspeed    casual  registered     count\n",
       "count  10886.00  10886.00  10886.00   10886.00  10886.00    10886.00  10886.00\n",
       "mean      20.23     23.66     61.89      12.80     36.02      155.55    191.57\n",
       "std        7.79      8.47     19.25       8.16     49.96      151.04    181.14\n",
       "min        0.82      0.76      0.00       0.00      0.00        0.00      1.00\n",
       "25%       13.94     16.66     47.00       7.00      4.00       36.00     42.00\n",
       "50%       20.50     24.24     62.00      13.00     17.00      118.00    145.00\n",
       "75%       26.24     31.06     77.00      17.00     49.00      222.00    284.00\n",
       "max       41.00     45.46    100.00      57.00    367.00      886.00    977.00"
      ]
     },
     "execution_count": 74,
     "metadata": {},
     "output_type": "execute_result"
    }
   ],
   "source": [
    "#checking columns temp, atemp, humidity, windspeed, casual, registered and count\n",
    "\n",
    "df[['temp', 'atemp', 'humidity', 'windspeed', 'casual', 'registered', 'count']].describe().round(2)"
   ]
  },
  {
   "cell_type": "markdown",
   "id": "0f6cff54",
   "metadata": {},
   "source": [
    "- Range of temp; 0.82-41 with an average of 20.23 deg Celsius\n",
    "- Range of atemp; 0.76-45.46 with an average of 23.66 deg Celsius\n",
    "- Range of humidity; 0-100 with an average of 61.89 %\n",
    "- Range of windspeed; 8.16-57 with an average of 12.80 km/h\n",
    "- Range of casual users; 0-367 with an average of 36 users/hour\n",
    "- Range of registered users; 0-886 with an average of 156 users/hour\n",
    "- Range of count of cycles/total users; 1-977 with an average of 192 users/hour\n",
    "\n",
    "*There is a significant difference between the mean and median of users with mean being large indicates the existance of large values of outliers*"
   ]
  },
  {
   "cell_type": "markdown",
   "id": "c796ea95",
   "metadata": {},
   "source": [
    "# **Visual Analysis**"
   ]
  },
  {
   "cell_type": "code",
   "execution_count": 75,
   "id": "de59be4a",
   "metadata": {},
   "outputs": [
    {
     "data": {
      "image/png": "[encoded data removed]",
      "text/plain": [
       "<Figure size 864x288 with 2 Axes>"
      ]
     },
     "metadata": {
      "needs_background": "light"
     },
     "output_type": "display_data"
    }
   ],
   "source": [
    "#checking distribution of column count\n",
    "plt.figure(figsize=(12,4))\n",
    "\n",
    "plt.subplot(121)\n",
    "sns.boxplot(data=df, y='count')\n",
    "\n",
    "plt.subplot(122)\n",
    "sns.histplot(data=df, x='count', kde=True)\n",
    "plt.show()"
   ]
  },
  {
   "cell_type": "code",
   "execution_count": 145,
   "id": "c5d00201",
   "metadata": {},
   "outputs": [
    {
     "data": {
      "image/png": "[encoded data removed]",
      "text/plain": [
       "<Figure size 720x360 with 2 Axes>"
      ]
     },
     "metadata": {
      "needs_background": "light"
     },
     "output_type": "display_data"
    }
   ],
   "source": [
    "col_data=df['count']\n",
    "fig,ax = plt.subplots(nrows=1,ncols=2,figsize=(10,5))\n",
    "sns.histplot(col_data, kde=True, ax=ax[0])\n",
    "ax[0].axvline(col_data.mean(), color='y', linestyle='--',linewidth=2)\n",
    "ax[0].axvline(col_data.median(), color='r', linestyle='dashed', linewidth=2)\n",
    "ax[0].axvline(col_data.mode()[0],color='g',linestyle='solid',linewidth=2)\n",
    "ax[0].legend({'Mean':col_data.mean(),'Median':col_data.median(),'Mode':col_data.mode()})\n",
    "sns.boxplot(x=col_data, showmeans=True, ax=ax[1])\n",
    "plt.tight_layout()"
   ]
  },
  {
   "cell_type": "code",
   "execution_count": 76,
   "id": "7b37c40a",
   "metadata": {},
   "outputs": [
    {
     "data": {
      "image/png": "[encoded data removed]",
      "text/plain": [
       "<Figure size 864x288 with 2 Axes>"
      ]
     },
     "metadata": {
      "needs_background": "light"
     },
     "output_type": "display_data"
    }
   ],
   "source": [
    "#checking distribution of columns casual and registered\n",
    "plt.figure(figsize=(12,4))\n",
    "\n",
    "plt.subplot(121)\n",
    "sns.boxplot(data=df, y='casual')\n",
    "\n",
    "plt.subplot(122)\n",
    "sns.boxplot(data=df, y='registered')\n",
    "plt.show()"
   ]
  },
  {
   "cell_type": "code",
   "execution_count": 77,
   "id": "f6eaca37",
   "metadata": {},
   "outputs": [
    {
     "data": {
      "image/png": "[encoded data removed]",
      "text/plain": [
       "<Figure size 864x288 with 2 Axes>"
      ]
     },
     "metadata": {
      "needs_background": "light"
     },
     "output_type": "display_data"
    }
   ],
   "source": [
    "#checking column season\n",
    "plt.figure(figsize=(12,4))\n",
    "\n",
    "plt.subplot(121)\n",
    "sns.countplot(data=df, x='season')\n",
    "\n",
    "#season vs count\n",
    "plt.subplot(122)\n",
    "sns.boxplot(data=df, y='count', x='season')\n",
    "plt.show()"
   ]
  },
  {
   "cell_type": "code",
   "execution_count": 78,
   "id": "fb5b8641",
   "metadata": {},
   "outputs": [
    {
     "data": {
      "image/png": "[encoded data removed]",
      "text/plain": [
       "<Figure size 864x288 with 2 Axes>"
      ]
     },
     "metadata": {
      "needs_background": "light"
     },
     "output_type": "display_data"
    }
   ],
   "source": [
    "#checking column holiday\n",
    "plt.figure(figsize=(12,4))\n",
    "\n",
    "plt.subplot(121)\n",
    "df['holiday'].value_counts().plot(kind='pie', autopct='%.f%%')\n",
    "\n",
    "#holiday vs count\n",
    "plt.subplot(122)\n",
    "sns.boxplot(data=df, y='count', x='holiday')\n",
    "plt.show()"
   ]
  },
  {
   "cell_type": "code",
   "execution_count": 79,
   "id": "b30a2a38",
   "metadata": {},
   "outputs": [
    {
     "data": {
      "image/png": "[encoded data removed]",
      "text/plain": [
       "<Figure size 864x288 with 2 Axes>"
      ]
     },
     "metadata": {
      "needs_background": "light"
     },
     "output_type": "display_data"
    }
   ],
   "source": [
    "#checking column holiday with casual vs registered\n",
    "plt.figure(figsize=(12,4))\n",
    "\n",
    "plt.subplot(121)\n",
    "sns.boxplot(data=df, y='casual', x='holiday')\n",
    "\n",
    "plt.subplot(122)\n",
    "sns.boxplot(data=df, y='registered', x='holiday')\n",
    "plt.show()"
   ]
  },
  {
   "cell_type": "code",
   "execution_count": 80,
   "id": "dad43e4c",
   "metadata": {},
   "outputs": [
    {
     "data": {
      "image/png": "[encoded data removed]",
      "text/plain": [
       "<Figure size 864x288 with 2 Axes>"
      ]
     },
     "metadata": {
      "needs_background": "light"
     },
     "output_type": "display_data"
    }
   ],
   "source": [
    "#checking column workingday\n",
    "plt.figure(figsize=(12,4))\n",
    "\n",
    "plt.subplot(121)\n",
    "df['workingday'].value_counts().plot(kind='pie', autopct='%.f%%')\n",
    "\n",
    "#workingday vs count\n",
    "plt.subplot(122)\n",
    "sns.boxplot(data=df, y='count', x='workingday')\n",
    "plt.show()"
   ]
  },
  {
   "cell_type": "code",
   "execution_count": 81,
   "id": "98c6ee7e",
   "metadata": {},
   "outputs": [
    {
     "data": {
      "image/png": "[encoded data removed]",
      "text/plain": [
       "<Figure size 864x288 with 2 Axes>"
      ]
     },
     "metadata": {
      "needs_background": "light"
     },
     "output_type": "display_data"
    }
   ],
   "source": [
    "#checking column workingday with casual vs registered users\n",
    "plt.figure(figsize=(12,4))\n",
    "\n",
    "plt.subplot(121)\n",
    "sns.boxplot(data=df, y='casual', x='workingday')\n",
    "\n",
    "plt.subplot(122)\n",
    "sns.boxplot(data=df, y='registered', x='workingday')\n",
    "plt.show()"
   ]
  },
  {
   "cell_type": "code",
   "execution_count": 82,
   "id": "ad1df278",
   "metadata": {},
   "outputs": [
    {
     "data": {
      "image/png": "[encoded data removed]",
      "text/plain": [
       "<Figure size 864x288 with 2 Axes>"
      ]
     },
     "metadata": {
      "needs_background": "light"
     },
     "output_type": "display_data"
    }
   ],
   "source": [
    "#checking column weather\n",
    "plt.figure(figsize=(12,4))\n",
    "\n",
    "plt.subplot(121)\n",
    "sns.countplot(data=df, x='weather')\n",
    "\n",
    "#weather vs count\n",
    "plt.subplot(122)\n",
    "sns.boxplot(data=df, y='count', x='weather')\n",
    "plt.show()"
   ]
  },
  {
   "cell_type": "code",
   "execution_count": 83,
   "id": "dce2dca3",
   "metadata": {},
   "outputs": [
    {
     "data": {
      "image/png": "[encoded data removed]",
      "text/plain": [
       "<Figure size 864x288 with 2 Axes>"
      ]
     },
     "metadata": {
      "needs_background": "light"
     },
     "output_type": "display_data"
    }
   ],
   "source": [
    "#checking column weather\n",
    "plt.figure(figsize=(12,4))\n",
    "\n",
    "plt.subplot(121)\n",
    "sns.boxplot(data=df, y='casual', x='weather')\n",
    "\n",
    "#weather vs count\n",
    "plt.subplot(122)\n",
    "sns.boxplot(data=df, y='registered', x='weather')\n",
    "plt.show()"
   ]
  },
  {
   "cell_type": "markdown",
   "id": "d999507f",
   "metadata": {},
   "source": [
    "**Weather Outlier**"
   ]
  },
  {
   "cell_type": "code",
   "execution_count": 84,
   "id": "718dea10",
   "metadata": {},
   "outputs": [
    {
     "data": {
      "text/html": [
       "<div>\n",
       "<style scoped>\n",
       "    .dataframe tbody tr th:only-of-type {\n",
       "        vertical-align: middle;\n",
       "    }\n",
       "\n",
       "    .dataframe tbody tr th {\n",
       "        vertical-align: top;\n",
       "    }\n",
       "\n",
       "    .dataframe thead th {\n",
       "        text-align: right;\n",
       "    }\n",
       "</style>\n",
       "<table border=\"1\" class=\"dataframe\">\n",
       "  <thead>\n",
       "    <tr style=\"text-align: right;\">\n",
       "      <th></th>\n",
       "      <th>datetime</th>\n",
       "      <th>season</th>\n",
       "      <th>holiday</th>\n",
       "      <th>workingday</th>\n",
       "      <th>weather</th>\n",
       "      <th>temp</th>\n",
       "      <th>atemp</th>\n",
       "      <th>humidity</th>\n",
       "      <th>windspeed</th>\n",
       "      <th>casual</th>\n",
       "      <th>registered</th>\n",
       "      <th>count</th>\n",
       "    </tr>\n",
       "  </thead>\n",
       "  <tbody>\n",
       "    <tr>\n",
       "      <th>5631</th>\n",
       "      <td>2012-01-09 18:00:00</td>\n",
       "      <td>1</td>\n",
       "      <td>0</td>\n",
       "      <td>1</td>\n",
       "      <td>4</td>\n",
       "      <td>8.2</td>\n",
       "      <td>11.365</td>\n",
       "      <td>86</td>\n",
       "      <td>6.0032</td>\n",
       "      <td>6</td>\n",
       "      <td>158</td>\n",
       "      <td>164</td>\n",
       "    </tr>\n",
       "  </tbody>\n",
       "</table>\n",
       "</div>"
      ],
      "text/plain": [
       "                datetime  season  holiday  workingday  weather  temp   atemp  \\\n",
       "5631 2012-01-09 18:00:00       1        0           1        4   8.2  11.365   \n",
       "\n",
       "      humidity  windspeed  casual  registered  count  \n",
       "5631        86     6.0032       6         158    164  "
      ]
     },
     "execution_count": 84,
     "metadata": {},
     "output_type": "execute_result"
    }
   ],
   "source": [
    "df[df['weather']==4]"
   ]
  },
  {
   "cell_type": "code",
   "execution_count": 85,
   "id": "f11c1e0d",
   "metadata": {},
   "outputs": [
    {
     "data": {
      "image/png": "[encoded data removed]",
      "text/plain": [
       "<Figure size 1440x288 with 4 Axes>"
      ]
     },
     "metadata": {
      "needs_background": "light"
     },
     "output_type": "display_data"
    }
   ],
   "source": [
    "#distribution of continous variables\n",
    "plt.figure(figsize=(20,4))\n",
    "\n",
    "#temp\n",
    "plt.subplot(141)\n",
    "sns.histplot(data=df, x='temp', kde=True)\n",
    "\n",
    "#atemp\n",
    "plt.subplot(142)\n",
    "sns.histplot(data=df, x='atemp', color='#4CB391', kde=True)\n",
    "\n",
    "#humidity\n",
    "plt.subplot(143)\n",
    "sns.histplot(data=df, x='humidity', color='#94180f', kde=True)\n",
    "\n",
    "#windspeed\n",
    "plt.subplot(144)\n",
    "sns.histplot(data=df, x='windspeed', color='#e39c0e', kde=True)\n",
    "plt.show()"
   ]
  },
  {
   "cell_type": "code",
   "execution_count": 86,
   "id": "38dfc065",
   "metadata": {},
   "outputs": [
    {
     "data": {
      "image/png": "[encoded data removed]",
      "text/plain": [
       "<Figure size 432x432 with 3 Axes>"
      ]
     },
     "metadata": {
      "needs_background": "light"
     },
     "output_type": "display_data"
    }
   ],
   "source": [
    "#atemp vs count\n",
    "sns.jointplot(data=df, y='count', x='atemp', kind='hex', color='#4CB391', joint_kws=dict(gridsize=15))\n",
    "plt.show()"
   ]
  },
  {
   "cell_type": "code",
   "execution_count": 87,
   "id": "9c9149df",
   "metadata": {},
   "outputs": [
    {
     "data": {
      "image/png": "[encoded data removed]",
      "text/plain": [
       "<Figure size 432x432 with 3 Axes>"
      ]
     },
     "metadata": {
      "needs_background": "light"
     },
     "output_type": "display_data"
    }
   ],
   "source": [
    "#humidity vs count\n",
    "sns.jointplot(data=df, y='count', x='humidity', kind='hex', color='#94180f', joint_kws=dict(gridsize=15))\n",
    "plt.show()"
   ]
  },
  {
   "cell_type": "markdown",
   "id": "899e8b49",
   "metadata": {},
   "source": [
    "### **Datetime vs Count**"
   ]
  },
  {
   "cell_type": "code",
   "execution_count": 88,
   "id": "ec58624f",
   "metadata": {},
   "outputs": [
    {
     "data": {
      "text/html": [
       "<div>\n",
       "<style scoped>\n",
       "    .dataframe tbody tr th:only-of-type {\n",
       "        vertical-align: middle;\n",
       "    }\n",
       "\n",
       "    .dataframe tbody tr th {\n",
       "        vertical-align: top;\n",
       "    }\n",
       "\n",
       "    .dataframe thead th {\n",
       "        text-align: right;\n",
       "    }\n",
       "</style>\n",
       "<table border=\"1\" class=\"dataframe\">\n",
       "  <thead>\n",
       "    <tr style=\"text-align: right;\">\n",
       "      <th></th>\n",
       "      <th>datetime</th>\n",
       "      <th>season</th>\n",
       "      <th>holiday</th>\n",
       "      <th>workingday</th>\n",
       "      <th>weather</th>\n",
       "      <th>temp</th>\n",
       "      <th>atemp</th>\n",
       "      <th>humidity</th>\n",
       "      <th>windspeed</th>\n",
       "      <th>casual</th>\n",
       "      <th>registered</th>\n",
       "      <th>count</th>\n",
       "    </tr>\n",
       "  </thead>\n",
       "  <tbody>\n",
       "    <tr>\n",
       "      <th>0</th>\n",
       "      <td>2011-01-01 00:00:00</td>\n",
       "      <td>1</td>\n",
       "      <td>0</td>\n",
       "      <td>0</td>\n",
       "      <td>1</td>\n",
       "      <td>9.84</td>\n",
       "      <td>14.395</td>\n",
       "      <td>81</td>\n",
       "      <td>0.0000</td>\n",
       "      <td>3</td>\n",
       "      <td>13</td>\n",
       "      <td>16</td>\n",
       "    </tr>\n",
       "    <tr>\n",
       "      <th>1</th>\n",
       "      <td>2011-01-01 01:00:00</td>\n",
       "      <td>1</td>\n",
       "      <td>0</td>\n",
       "      <td>0</td>\n",
       "      <td>1</td>\n",
       "      <td>9.02</td>\n",
       "      <td>13.635</td>\n",
       "      <td>80</td>\n",
       "      <td>0.0000</td>\n",
       "      <td>8</td>\n",
       "      <td>32</td>\n",
       "      <td>40</td>\n",
       "    </tr>\n",
       "    <tr>\n",
       "      <th>2</th>\n",
       "      <td>2011-01-01 02:00:00</td>\n",
       "      <td>1</td>\n",
       "      <td>0</td>\n",
       "      <td>0</td>\n",
       "      <td>1</td>\n",
       "      <td>9.02</td>\n",
       "      <td>13.635</td>\n",
       "      <td>80</td>\n",
       "      <td>0.0000</td>\n",
       "      <td>5</td>\n",
       "      <td>27</td>\n",
       "      <td>32</td>\n",
       "    </tr>\n",
       "    <tr>\n",
       "      <th>3</th>\n",
       "      <td>2011-01-01 03:00:00</td>\n",
       "      <td>1</td>\n",
       "      <td>0</td>\n",
       "      <td>0</td>\n",
       "      <td>1</td>\n",
       "      <td>9.84</td>\n",
       "      <td>14.395</td>\n",
       "      <td>75</td>\n",
       "      <td>0.0000</td>\n",
       "      <td>3</td>\n",
       "      <td>10</td>\n",
       "      <td>13</td>\n",
       "    </tr>\n",
       "    <tr>\n",
       "      <th>4</th>\n",
       "      <td>2011-01-01 04:00:00</td>\n",
       "      <td>1</td>\n",
       "      <td>0</td>\n",
       "      <td>0</td>\n",
       "      <td>1</td>\n",
       "      <td>9.84</td>\n",
       "      <td>14.395</td>\n",
       "      <td>75</td>\n",
       "      <td>0.0000</td>\n",
       "      <td>0</td>\n",
       "      <td>1</td>\n",
       "      <td>1</td>\n",
       "    </tr>\n",
       "    <tr>\n",
       "      <th>...</th>\n",
       "      <td>...</td>\n",
       "      <td>...</td>\n",
       "      <td>...</td>\n",
       "      <td>...</td>\n",
       "      <td>...</td>\n",
       "      <td>...</td>\n",
       "      <td>...</td>\n",
       "      <td>...</td>\n",
       "      <td>...</td>\n",
       "      <td>...</td>\n",
       "      <td>...</td>\n",
       "      <td>...</td>\n",
       "    </tr>\n",
       "    <tr>\n",
       "      <th>10881</th>\n",
       "      <td>2012-12-19 19:00:00</td>\n",
       "      <td>4</td>\n",
       "      <td>0</td>\n",
       "      <td>1</td>\n",
       "      <td>1</td>\n",
       "      <td>15.58</td>\n",
       "      <td>19.695</td>\n",
       "      <td>50</td>\n",
       "      <td>26.0027</td>\n",
       "      <td>7</td>\n",
       "      <td>329</td>\n",
       "      <td>336</td>\n",
       "    </tr>\n",
       "    <tr>\n",
       "      <th>10882</th>\n",
       "      <td>2012-12-19 20:00:00</td>\n",
       "      <td>4</td>\n",
       "      <td>0</td>\n",
       "      <td>1</td>\n",
       "      <td>1</td>\n",
       "      <td>14.76</td>\n",
       "      <td>17.425</td>\n",
       "      <td>57</td>\n",
       "      <td>15.0013</td>\n",
       "      <td>10</td>\n",
       "      <td>231</td>\n",
       "      <td>241</td>\n",
       "    </tr>\n",
       "    <tr>\n",
       "      <th>10883</th>\n",
       "      <td>2012-12-19 21:00:00</td>\n",
       "      <td>4</td>\n",
       "      <td>0</td>\n",
       "      <td>1</td>\n",
       "      <td>1</td>\n",
       "      <td>13.94</td>\n",
       "      <td>15.910</td>\n",
       "      <td>61</td>\n",
       "      <td>15.0013</td>\n",
       "      <td>4</td>\n",
       "      <td>164</td>\n",
       "      <td>168</td>\n",
       "    </tr>\n",
       "    <tr>\n",
       "      <th>10884</th>\n",
       "      <td>2012-12-19 22:00:00</td>\n",
       "      <td>4</td>\n",
       "      <td>0</td>\n",
       "      <td>1</td>\n",
       "      <td>1</td>\n",
       "      <td>13.94</td>\n",
       "      <td>17.425</td>\n",
       "      <td>61</td>\n",
       "      <td>6.0032</td>\n",
       "      <td>12</td>\n",
       "      <td>117</td>\n",
       "      <td>129</td>\n",
       "    </tr>\n",
       "    <tr>\n",
       "      <th>10885</th>\n",
       "      <td>2012-12-19 23:00:00</td>\n",
       "      <td>4</td>\n",
       "      <td>0</td>\n",
       "      <td>1</td>\n",
       "      <td>1</td>\n",
       "      <td>13.12</td>\n",
       "      <td>16.665</td>\n",
       "      <td>66</td>\n",
       "      <td>8.9981</td>\n",
       "      <td>4</td>\n",
       "      <td>84</td>\n",
       "      <td>88</td>\n",
       "    </tr>\n",
       "  </tbody>\n",
       "</table>\n",
       "<p>10885 rows × 12 columns</p>\n",
       "</div>"
      ],
      "text/plain": [
       "                 datetime  season  holiday  workingday  weather   temp  \\\n",
       "0     2011-01-01 00:00:00       1        0           0        1   9.84   \n",
       "1     2011-01-01 01:00:00       1        0           0        1   9.02   \n",
       "2     2011-01-01 02:00:00       1        0           0        1   9.02   \n",
       "3     2011-01-01 03:00:00       1        0           0        1   9.84   \n",
       "4     2011-01-01 04:00:00       1        0           0        1   9.84   \n",
       "...                   ...     ...      ...         ...      ...    ...   \n",
       "10881 2012-12-19 19:00:00       4        0           1        1  15.58   \n",
       "10882 2012-12-19 20:00:00       4        0           1        1  14.76   \n",
       "10883 2012-12-19 21:00:00       4        0           1        1  13.94   \n",
       "10884 2012-12-19 22:00:00       4        0           1        1  13.94   \n",
       "10885 2012-12-19 23:00:00       4        0           1        1  13.12   \n",
       "\n",
       "        atemp  humidity  windspeed  casual  registered  count  \n",
       "0      14.395        81     0.0000       3          13     16  \n",
       "1      13.635        80     0.0000       8          32     40  \n",
       "2      13.635        80     0.0000       5          27     32  \n",
       "3      14.395        75     0.0000       3          10     13  \n",
       "4      14.395        75     0.0000       0           1      1  \n",
       "...       ...       ...        ...     ...         ...    ...  \n",
       "10881  19.695        50    26.0027       7         329    336  \n",
       "10882  17.425        57    15.0013      10         231    241  \n",
       "10883  15.910        61    15.0013       4         164    168  \n",
       "10884  17.425        61     6.0032      12         117    129  \n",
       "10885  16.665        66     8.9981       4          84     88  \n",
       "\n",
       "[10885 rows x 12 columns]"
      ]
     },
     "execution_count": 88,
     "metadata": {},
     "output_type": "execute_result"
    }
   ],
   "source": [
    "df.drop(index=5631)"
   ]
  },
  {
   "cell_type": "code",
   "execution_count": 89,
   "id": "663f47e5",
   "metadata": {},
   "outputs": [],
   "source": [
    "#feature: month\n",
    "#feature: year\n",
    "#feature: hour\n",
    "#feature: week\n",
    "\n",
    "df['month'] = df.datetime.dt.month\n",
    "df['year'] = df.datetime.dt.year\n",
    "df['hour'] = df.datetime.dt.hour\n",
    "#Monday=0, Sunday=6\n",
    "df['week'] = df.datetime.dt.weekday"
   ]
  },
  {
   "cell_type": "code",
   "execution_count": 90,
   "id": "3bbe569e",
   "metadata": {},
   "outputs": [
    {
     "data": {
      "text/html": [
       "<div>\n",
       "<style scoped>\n",
       "    .dataframe tbody tr th:only-of-type {\n",
       "        vertical-align: middle;\n",
       "    }\n",
       "\n",
       "    .dataframe tbody tr th {\n",
       "        vertical-align: top;\n",
       "    }\n",
       "\n",
       "    .dataframe thead th {\n",
       "        text-align: right;\n",
       "    }\n",
       "</style>\n",
       "<table border=\"1\" class=\"dataframe\">\n",
       "  <thead>\n",
       "    <tr style=\"text-align: right;\">\n",
       "      <th></th>\n",
       "      <th>datetime</th>\n",
       "      <th>season</th>\n",
       "      <th>holiday</th>\n",
       "      <th>workingday</th>\n",
       "      <th>weather</th>\n",
       "      <th>temp</th>\n",
       "      <th>atemp</th>\n",
       "      <th>humidity</th>\n",
       "      <th>windspeed</th>\n",
       "      <th>casual</th>\n",
       "      <th>registered</th>\n",
       "      <th>count</th>\n",
       "      <th>month</th>\n",
       "      <th>year</th>\n",
       "      <th>hour</th>\n",
       "      <th>week</th>\n",
       "    </tr>\n",
       "  </thead>\n",
       "  <tbody>\n",
       "    <tr>\n",
       "      <th>0</th>\n",
       "      <td>2011-01-01 00:00:00</td>\n",
       "      <td>1</td>\n",
       "      <td>0</td>\n",
       "      <td>0</td>\n",
       "      <td>1</td>\n",
       "      <td>9.84</td>\n",
       "      <td>14.395</td>\n",
       "      <td>81</td>\n",
       "      <td>0.0</td>\n",
       "      <td>3</td>\n",
       "      <td>13</td>\n",
       "      <td>16</td>\n",
       "      <td>1</td>\n",
       "      <td>2011</td>\n",
       "      <td>0</td>\n",
       "      <td>5</td>\n",
       "    </tr>\n",
       "    <tr>\n",
       "      <th>1</th>\n",
       "      <td>2011-01-01 01:00:00</td>\n",
       "      <td>1</td>\n",
       "      <td>0</td>\n",
       "      <td>0</td>\n",
       "      <td>1</td>\n",
       "      <td>9.02</td>\n",
       "      <td>13.635</td>\n",
       "      <td>80</td>\n",
       "      <td>0.0</td>\n",
       "      <td>8</td>\n",
       "      <td>32</td>\n",
       "      <td>40</td>\n",
       "      <td>1</td>\n",
       "      <td>2011</td>\n",
       "      <td>1</td>\n",
       "      <td>5</td>\n",
       "    </tr>\n",
       "    <tr>\n",
       "      <th>2</th>\n",
       "      <td>2011-01-01 02:00:00</td>\n",
       "      <td>1</td>\n",
       "      <td>0</td>\n",
       "      <td>0</td>\n",
       "      <td>1</td>\n",
       "      <td>9.02</td>\n",
       "      <td>13.635</td>\n",
       "      <td>80</td>\n",
       "      <td>0.0</td>\n",
       "      <td>5</td>\n",
       "      <td>27</td>\n",
       "      <td>32</td>\n",
       "      <td>1</td>\n",
       "      <td>2011</td>\n",
       "      <td>2</td>\n",
       "      <td>5</td>\n",
       "    </tr>\n",
       "    <tr>\n",
       "      <th>3</th>\n",
       "      <td>2011-01-01 03:00:00</td>\n",
       "      <td>1</td>\n",
       "      <td>0</td>\n",
       "      <td>0</td>\n",
       "      <td>1</td>\n",
       "      <td>9.84</td>\n",
       "      <td>14.395</td>\n",
       "      <td>75</td>\n",
       "      <td>0.0</td>\n",
       "      <td>3</td>\n",
       "      <td>10</td>\n",
       "      <td>13</td>\n",
       "      <td>1</td>\n",
       "      <td>2011</td>\n",
       "      <td>3</td>\n",
       "      <td>5</td>\n",
       "    </tr>\n",
       "    <tr>\n",
       "      <th>4</th>\n",
       "      <td>2011-01-01 04:00:00</td>\n",
       "      <td>1</td>\n",
       "      <td>0</td>\n",
       "      <td>0</td>\n",
       "      <td>1</td>\n",
       "      <td>9.84</td>\n",
       "      <td>14.395</td>\n",
       "      <td>75</td>\n",
       "      <td>0.0</td>\n",
       "      <td>0</td>\n",
       "      <td>1</td>\n",
       "      <td>1</td>\n",
       "      <td>1</td>\n",
       "      <td>2011</td>\n",
       "      <td>4</td>\n",
       "      <td>5</td>\n",
       "    </tr>\n",
       "  </tbody>\n",
       "</table>\n",
       "</div>"
      ],
      "text/plain": [
       "             datetime  season  holiday  workingday  weather  temp   atemp  \\\n",
       "0 2011-01-01 00:00:00       1        0           0        1  9.84  14.395   \n",
       "1 2011-01-01 01:00:00       1        0           0        1  9.02  13.635   \n",
       "2 2011-01-01 02:00:00       1        0           0        1  9.02  13.635   \n",
       "3 2011-01-01 03:00:00       1        0           0        1  9.84  14.395   \n",
       "4 2011-01-01 04:00:00       1        0           0        1  9.84  14.395   \n",
       "\n",
       "   humidity  windspeed  casual  registered  count  month  year  hour  week  \n",
       "0        81        0.0       3          13     16      1  2011     0     5  \n",
       "1        80        0.0       8          32     40      1  2011     1     5  \n",
       "2        80        0.0       5          27     32      1  2011     2     5  \n",
       "3        75        0.0       3          10     13      1  2011     3     5  \n",
       "4        75        0.0       0           1      1      1  2011     4     5  "
      ]
     },
     "execution_count": 90,
     "metadata": {},
     "output_type": "execute_result"
    }
   ],
   "source": [
    "df.head()"
   ]
  },
  {
   "cell_type": "code",
   "execution_count": 91,
   "id": "cc4b7cdb",
   "metadata": {},
   "outputs": [
    {
     "data": {
      "text/plain": [
       "hour\n",
       "0      55.138462\n",
       "1      33.859031\n",
       "2      22.899554\n",
       "3      11.757506\n",
       "4       6.407240\n",
       "5      19.767699\n",
       "6      76.259341\n",
       "7     213.116484\n",
       "8     362.769231\n",
       "9     221.780220\n",
       "10    175.092308\n",
       "11    210.674725\n",
       "12    256.508772\n",
       "13    257.787281\n",
       "14    243.442982\n",
       "15    254.298246\n",
       "16    316.372807\n",
       "17    468.765351\n",
       "18    430.859649\n",
       "19    315.278509\n",
       "20    228.517544\n",
       "21    173.370614\n",
       "22    133.576754\n",
       "23     89.508772\n",
       "Name: count, dtype: float64"
      ]
     },
     "execution_count": 91,
     "metadata": {},
     "output_type": "execute_result"
    }
   ],
   "source": [
    "df.groupby('hour')['count'].mean()"
   ]
  },
  {
   "cell_type": "code",
   "execution_count": 92,
   "id": "75619c8a",
   "metadata": {},
   "outputs": [
    {
     "data": {
      "image/png": "[encoded data removed]",
      "text/plain": [
       "<Figure size 432x288 with 1 Axes>"
      ]
     },
     "metadata": {
      "needs_background": "light"
     },
     "output_type": "display_data"
    }
   ],
   "source": [
    "plt.xticks(df.groupby('hour')['count'].mean().index, rotation=90)\n",
    "plt.title('Demand curve on a typical day')\n",
    "sns.lineplot(data=df.groupby('hour')['count'].mean())\n",
    "plt.show()"
   ]
  },
  {
   "cell_type": "code",
   "execution_count": 141,
   "id": "af1b99b5",
   "metadata": {},
   "outputs": [
    {
     "data": {
      "image/png": "[encoded data removed]",
      "text/plain": [
       "<Figure size 432x288 with 1 Axes>"
      ]
     },
     "metadata": {
      "needs_background": "light"
     },
     "output_type": "display_data"
    }
   ],
   "source": [
    "sns.lineplot(data=df, x='hour', y='count', hue='workingday')\n",
    "plt.show()"
   ]
  },
  {
   "cell_type": "code",
   "execution_count": 93,
   "id": "0097c08b",
   "metadata": {},
   "outputs": [
    {
     "data": {
      "text/plain": [
       "2    901\n",
       "3    901\n",
       "1    884\n",
       "Name: month, dtype: int64"
      ]
     },
     "execution_count": 93,
     "metadata": {},
     "output_type": "execute_result"
    }
   ],
   "source": [
    "df[df['season']==1]['month'].value_counts()"
   ]
  },
  {
   "cell_type": "code",
   "execution_count": 94,
   "id": "48f7eb3d",
   "metadata": {},
   "outputs": [
    {
     "data": {
      "text/plain": [
       "season  month\n",
       "1       2        901\n",
       "        3        901\n",
       "        1        884\n",
       "2       5        912\n",
       "        6        912\n",
       "        4        909\n",
       "3       7        912\n",
       "        8        912\n",
       "        9        909\n",
       "4       12       912\n",
       "        10       911\n",
       "        11       911\n",
       "Name: month, dtype: int64"
      ]
     },
     "execution_count": 94,
     "metadata": {},
     "output_type": "execute_result"
    }
   ],
   "source": [
    "df.groupby('season')['month'].value_counts()"
   ]
  },
  {
   "cell_type": "code",
   "execution_count": 95,
   "id": "b82fa98b",
   "metadata": {},
   "outputs": [
    {
     "data": {
      "text/plain": [
       "week\n",
       "0    190.390716\n",
       "1    189.723847\n",
       "2    188.411348\n",
       "3    197.296201\n",
       "4    197.844343\n",
       "5    196.665404\n",
       "6    180.839772\n",
       "Name: count, dtype: float64"
      ]
     },
     "execution_count": 95,
     "metadata": {},
     "output_type": "execute_result"
    }
   ],
   "source": [
    "df.groupby('week')['count'].mean()"
   ]
  },
  {
   "cell_type": "code",
   "execution_count": 96,
   "id": "954b539d",
   "metadata": {},
   "outputs": [
    {
     "data": {
      "image/png": "[encoded data removed]",
      "text/plain": [
       "<Figure size 432x288 with 1 Axes>"
      ]
     },
     "metadata": {
      "needs_background": "light"
     },
     "output_type": "display_data"
    }
   ],
   "source": [
    "df.groupby('week')['count'].mean().plot(kind='bar')\n",
    "plt.show()"
   ]
  },
  {
   "cell_type": "markdown",
   "id": "be89833a",
   "metadata": {},
   "source": [
    "### **Correlation**"
   ]
  },
  {
   "cell_type": "code",
   "execution_count": 97,
   "id": "5a788b2d",
   "metadata": {},
   "outputs": [
    {
     "data": {
      "text/html": [
       "<div>\n",
       "<style scoped>\n",
       "    .dataframe tbody tr th:only-of-type {\n",
       "        vertical-align: middle;\n",
       "    }\n",
       "\n",
       "    .dataframe tbody tr th {\n",
       "        vertical-align: top;\n",
       "    }\n",
       "\n",
       "    .dataframe thead th {\n",
       "        text-align: right;\n",
       "    }\n",
       "</style>\n",
       "<table border=\"1\" class=\"dataframe\">\n",
       "  <thead>\n",
       "    <tr style=\"text-align: right;\">\n",
       "      <th></th>\n",
       "      <th>casual</th>\n",
       "      <th>registered</th>\n",
       "    </tr>\n",
       "  </thead>\n",
       "  <tbody>\n",
       "    <tr>\n",
       "      <th>casual</th>\n",
       "      <td>1.000000</td>\n",
       "      <td>0.775785</td>\n",
       "    </tr>\n",
       "    <tr>\n",
       "      <th>registered</th>\n",
       "      <td>0.775785</td>\n",
       "      <td>1.000000</td>\n",
       "    </tr>\n",
       "  </tbody>\n",
       "</table>\n",
       "</div>"
      ],
      "text/plain": [
       "              casual  registered\n",
       "casual      1.000000    0.775785\n",
       "registered  0.775785    1.000000"
      ]
     },
     "execution_count": 97,
     "metadata": {},
     "output_type": "execute_result"
    }
   ],
   "source": [
    "#correlation between casual and registered variables\n",
    "\n",
    "df[['casual', 'registered']].corr(method='spearman')"
   ]
  },
  {
   "cell_type": "code",
   "execution_count": 98,
   "id": "480cedfa",
   "metadata": {},
   "outputs": [
    {
     "data": {
      "text/html": [
       "<div>\n",
       "<style scoped>\n",
       "    .dataframe tbody tr th:only-of-type {\n",
       "        vertical-align: middle;\n",
       "    }\n",
       "\n",
       "    .dataframe tbody tr th {\n",
       "        vertical-align: top;\n",
       "    }\n",
       "\n",
       "    .dataframe thead th {\n",
       "        text-align: right;\n",
       "    }\n",
       "</style>\n",
       "<table border=\"1\" class=\"dataframe\">\n",
       "  <thead>\n",
       "    <tr style=\"text-align: right;\">\n",
       "      <th></th>\n",
       "      <th>weather</th>\n",
       "      <th>atemp</th>\n",
       "      <th>humidity</th>\n",
       "      <th>windspeed</th>\n",
       "      <th>count</th>\n",
       "    </tr>\n",
       "  </thead>\n",
       "  <tbody>\n",
       "    <tr>\n",
       "      <th>weather</th>\n",
       "      <td>1.000000</td>\n",
       "      <td>-0.061933</td>\n",
       "      <td>0.399492</td>\n",
       "      <td>-0.006648</td>\n",
       "      <td>-0.114133</td>\n",
       "    </tr>\n",
       "    <tr>\n",
       "      <th>atemp</th>\n",
       "      <td>-0.061933</td>\n",
       "      <td>1.000000</td>\n",
       "      <td>-0.042028</td>\n",
       "      <td>-0.036350</td>\n",
       "      <td>0.406562</td>\n",
       "    </tr>\n",
       "    <tr>\n",
       "      <th>humidity</th>\n",
       "      <td>0.399492</td>\n",
       "      <td>-0.042028</td>\n",
       "      <td>1.000000</td>\n",
       "      <td>-0.324447</td>\n",
       "      <td>-0.354049</td>\n",
       "    </tr>\n",
       "    <tr>\n",
       "      <th>windspeed</th>\n",
       "      <td>-0.006648</td>\n",
       "      <td>-0.036350</td>\n",
       "      <td>-0.324447</td>\n",
       "      <td>1.000000</td>\n",
       "      <td>0.135777</td>\n",
       "    </tr>\n",
       "    <tr>\n",
       "      <th>count</th>\n",
       "      <td>-0.114133</td>\n",
       "      <td>0.406562</td>\n",
       "      <td>-0.354049</td>\n",
       "      <td>0.135777</td>\n",
       "      <td>1.000000</td>\n",
       "    </tr>\n",
       "  </tbody>\n",
       "</table>\n",
       "</div>"
      ],
      "text/plain": [
       "            weather     atemp  humidity  windspeed     count\n",
       "weather    1.000000 -0.061933  0.399492  -0.006648 -0.114133\n",
       "atemp     -0.061933  1.000000 -0.042028  -0.036350  0.406562\n",
       "humidity   0.399492 -0.042028  1.000000  -0.324447 -0.354049\n",
       "windspeed -0.006648 -0.036350 -0.324447   1.000000  0.135777\n",
       "count     -0.114133  0.406562 -0.354049   0.135777  1.000000"
      ]
     },
     "execution_count": 98,
     "metadata": {},
     "output_type": "execute_result"
    }
   ],
   "source": [
    "#correlation between continuous variables and count\n",
    "\n",
    "df_corr = df[['weather', 'atemp', 'humidity', 'windspeed', 'count']].corr(method='spearman')\n",
    "df_corr"
   ]
  },
  {
   "cell_type": "code",
   "execution_count": 99,
   "id": "69128f04",
   "metadata": {},
   "outputs": [
    {
     "data": {
      "image/png": "[encoded data removed]",
      "text/plain": [
       "<Figure size 432x288 with 2 Axes>"
      ]
     },
     "metadata": {
      "needs_background": "light"
     },
     "output_type": "display_data"
    }
   ],
   "source": [
    "sns.heatmap(df_corr, annot=True)\n",
    "plt.show()"
   ]
  },
  {
   "cell_type": "markdown",
   "id": "d9d3f777",
   "metadata": {},
   "source": [
    "## **Observations based on EDA**\n",
    "\n",
    "1. Range of datetime is 2011-01-01 00:00:00 - 2012-12-19 23:00:00 with one hour intervals<br><br>\n",
    "2. Almost equal number of observaions are available for all 4 seasons<br><br>\n",
    "3. Only 3% of data belong to holidays<br><br>\n",
    "4. 68% of data collected account for working days<br><br>\n",
    "5. Only one datapoint is available for extreme weather category -4(Heavy Rain,Ice Pallets,Thunderstorm,Mist OR Snow,Fog)<br><br>\n",
    "6. 66% of the days have a clear or partly cloudy weather (category -1)<br><br>\n",
    "7. Median temperature is 20.50 deg Celsius and 50% of the time temperature is between 14-26 deg Celsius<br><br>\n",
    "8. Median humidity is 62% and 50% of the time humidity falls between 47-77%<br><br>\n",
    "9. Average wind speed is 13km/h and less than 17km/h, 75% of the time<br><br>\n",
    "10. Over 75% of the time, the number of casual user don't exceed 50<br><br>\n",
    "11. Median value of registered users is 118 and half of the time, the number of registered users are in between 36-222<br><br>\n",
    "12. Median number cycles in use at a time is 145"
   ]
  },
  {
   "cell_type": "markdown",
   "id": "7992109d",
   "metadata": {},
   "source": [
    "## **Insights based on above analysis**\n",
    "\n",
    "1. People tend to use cycles relatively less in spring and most in summer and fall<br><br>\n",
    "2. Overall, no significant difference is observed in demand neither on holidays/non-holidays nor workingdays/weekends<br><br>\n",
    "3. Casual users tend to use cycles a little more on holidays and weekends<br><br>\n",
    "4. Demand for cycles decrease as the weather gets more and more extreme<br><br>\n",
    "5. Cycle demand is highly correlated with temperature indicates people tend to use cycles less when the temperature is very low<br><br>\n",
    "6. Demand is inversely related to humidity<br><br>\n",
    "7. A small correlation is found between windspeed and number of users<br><br>\n",
    "8. The demand curve on a typical day is observed to have two peaks, the highest between 5-7 in the evening and another peak, in the morning 8-9<br><br>\n",
    "9. Demand is almost the same throughout the week<br><br>"
   ]
  },
  {
   "cell_type": "markdown",
   "id": "9b9281eb",
   "metadata": {},
   "source": [
    "# **Statistical Tests**"
   ]
  },
  {
   "cell_type": "markdown",
   "id": "f1ad521c",
   "metadata": {},
   "source": [
    "## **1. Check whether working Day has an effect on number of electric cycles rented**\n",
    "\n",
    "*Null Hypothesis*\n",
    "- H0 - Working day has no effect on the number of cycles rented\n",
    "    - Mean count on working days = Mean count on non-working days\n",
    "    - Xwd = Xnwd\n",
    "\n",
    "*Alternate Hypothesis*\n",
    "- H1 - Working day has some effect on the number of cycles rented\n",
    "    - Mean count on working days ≠ Mean count on non-working days\n",
    "    - Xwd ≠ Xnwd\n",
    "    \n",
    "*Hypothesis Test*\n",
    "- 2- Independent Sample, 2-Tailed T-Test\n",
    "    - Sample 1 - Cycles rented on working days\n",
    "    - Sample 2 - Cycles rented on non-working days\n",
    "    - *Finite population mean & std and unknown population variance*\n",
    "    \n",
    "*Significance level*\n",
    "- alpha = 5%\n",
    "\n",
    "*Test Statistic*\n",
    "- Tt = (x1 - x2) / sqrt(s1^2/n1 + s2^2/n2)\n",
    "    - T-distribution(dof)"
   ]
  },
  {
   "cell_type": "code",
   "execution_count": 100,
   "id": "e0ce9b19",
   "metadata": {},
   "outputs": [
    {
     "data": {
      "text/plain": [
       "count    10886.000000\n",
       "mean       191.574132\n",
       "std        181.144454\n",
       "min          1.000000\n",
       "25%         42.000000\n",
       "50%        145.000000\n",
       "75%        284.000000\n",
       "max        977.000000\n",
       "Name: count, dtype: float64"
      ]
     },
     "execution_count": 100,
     "metadata": {},
     "output_type": "execute_result"
    }
   ],
   "source": [
    "df['count'].describe()"
   ]
  },
  {
   "cell_type": "code",
   "execution_count": 101,
   "id": "61a01db8",
   "metadata": {},
   "outputs": [
    {
     "data": {
      "text/plain": [
       "1    7412\n",
       "0    3474\n",
       "Name: workingday, dtype: int64"
      ]
     },
     "execution_count": 101,
     "metadata": {},
     "output_type": "execute_result"
    }
   ],
   "source": [
    "df['workingday'].value_counts()"
   ]
  },
  {
   "cell_type": "code",
   "execution_count": 102,
   "id": "e9f65fa9",
   "metadata": {},
   "outputs": [
    {
     "data": {
      "image/png": "[encoded data removed]",
      "text/plain": [
       "<Figure size 432x288 with 1 Axes>"
      ]
     },
     "metadata": {
      "needs_background": "light"
     },
     "output_type": "display_data"
    }
   ],
   "source": [
    "sns.histplot(data=df, x='count', bins=100)\n",
    "plt.show()"
   ]
  },
  {
   "cell_type": "markdown",
   "id": "188649c5",
   "metadata": {},
   "source": [
    "### **Outlier treatment**"
   ]
  },
  {
   "cell_type": "code",
   "execution_count": 103,
   "id": "e793136f",
   "metadata": {},
   "outputs": [
    {
     "name": "stdout",
     "output_type": "stream",
     "text": [
      "1 647.0\n"
     ]
    }
   ],
   "source": [
    "#remove extreme values as we dont want them to impact means \n",
    "Q1 = df['count'].quantile(0.25)\n",
    "Q3 = df['count'].quantile(0.75)\n",
    "IQR = Q3 - Q1\n",
    "low_lt = max(min(df['count']), Q1 - 1.5*IQR)\n",
    "up_lt = min(max(df['count']), Q3 + 1.5*IQR)\n",
    "print(low_lt, up_lt)"
   ]
  },
  {
   "cell_type": "code",
   "execution_count": 104,
   "id": "7ffb0209",
   "metadata": {},
   "outputs": [
    {
     "data": {
      "text/plain": [
       "count    10586.000000\n",
       "mean       175.717079\n",
       "std        156.360023\n",
       "min          1.000000\n",
       "25%         40.000000\n",
       "50%        138.000000\n",
       "75%        270.000000\n",
       "max        647.000000\n",
       "Name: count, dtype: float64"
      ]
     },
     "execution_count": 104,
     "metadata": {},
     "output_type": "execute_result"
    }
   ],
   "source": [
    "df_new = df[df['count'] <= up_lt]\n",
    "df_new['count'].describe()"
   ]
  },
  {
   "cell_type": "code",
   "execution_count": 105,
   "id": "b8e369b6",
   "metadata": {},
   "outputs": [
    {
     "data": {
      "image/png": "[encoded data removed]",
      "text/plain": [
       "<Figure size 432x288 with 1 Axes>"
      ]
     },
     "metadata": {
      "needs_background": "light"
     },
     "output_type": "display_data"
    }
   ],
   "source": [
    "sns.histplot(data=df_new, x='count', bins=100)\n",
    "plt.show()"
   ]
  },
  {
   "cell_type": "code",
   "execution_count": 106,
   "id": "1d9583dd",
   "metadata": {},
   "outputs": [
    {
     "data": {
      "image/png": "[encoded data removed]",
      "text/plain": [
       "<Figure size 432x288 with 1 Axes>"
      ]
     },
     "metadata": {
      "needs_background": "light"
     },
     "output_type": "display_data"
    }
   ],
   "source": [
    "sns.boxplot(data=df_new, y='count', x='workingday')\n",
    "plt.show()"
   ]
  },
  {
   "cell_type": "code",
   "execution_count": 107,
   "id": "ebe0434a",
   "metadata": {},
   "outputs": [
    {
     "data": {
      "image/png": "[encoded data removed]",
      "text/plain": [
       "<Figure size 864x288 with 2 Axes>"
      ]
     },
     "metadata": {
      "needs_background": "light"
     },
     "output_type": "display_data"
    }
   ],
   "source": [
    "#split the data\n",
    "df_wday = df_new[df_new['workingday'] == 1]\n",
    "df_non_wday = df_new[df_new['workingday'] == 0]\n",
    "\n",
    "plt.figure(figsize=(12,4))\n",
    "\n",
    "plt.subplot(121)\n",
    "sns.histplot(data=df_wday, x='count')\n",
    "\n",
    "plt.subplot(122)\n",
    "sns.histplot(data=df_non_wday, x='count')\n",
    "plt.show()"
   ]
  },
  {
   "cell_type": "code",
   "execution_count": 108,
   "id": "13ba5243",
   "metadata": {},
   "outputs": [],
   "source": [
    "#2 sample t-test\n",
    "def t_test(data1, data2, alpha):   \n",
    "\n",
    "    dof = np.size(data1) + np.size(data2) - 2\n",
    "    print('Degrees of freedom:', dof)\n",
    "    \n",
    "    #test statistic and p-value\n",
    "    t_stat, p_val = stats.ttest_ind(data1, data2)\n",
    "    print('Test Statistic:', abs(t_stat))\n",
    "    print('P value:', p_val)\n",
    "\n",
    "    t_val = round(stats.t.isf(q = alpha, df = dof), 2)\n",
    "    print('Critical Value of t-test:', t_val)\n",
    "    print('Significance level:', alpha)\n",
    "    print()\n",
    "\n",
    "    if abs(t_stat) < t_val :\n",
    "        print('test statistic < critical value of test so, fail to reject the null hypothesis ')\n",
    "    else:\n",
    "        print('test statistic > critical value of so, reject the null hypothesis ')"
   ]
  },
  {
   "cell_type": "code",
   "execution_count": 109,
   "id": "ddc22e11",
   "metadata": {},
   "outputs": [
    {
     "name": "stdout",
     "output_type": "stream",
     "text": [
      "Degrees of freedom: 10584\n",
      "Test Statistic: 2.5748856400481515\n",
      "P value: 0.010040780184497066\n",
      "Critical Value of t-test: 1.64\n",
      "Significance level: 0.05\n",
      "\n",
      "test statistic > critical value of so, reject the null hypothesis \n"
     ]
    }
   ],
   "source": [
    "t_test(df_wday['count'], df_non_wday['count'], 0.05)"
   ]
  },
  {
   "cell_type": "markdown",
   "id": "826be376",
   "metadata": {},
   "source": [
    "### **Inference from the analysis**\n",
    "\n",
    "- Test Statistic: 2.57\n",
    "- Critical value of test: 1.64\n",
    "- P value: 0.01\n",
    "\n",
    "*As the test statistic is greater than the critical value of the test, we can reject the null hypothesis at 5% level of significance*<br>\n",
    "*As the p-value is smaller than the test significance level, we can reject the null hypothesis*\n",
    "\n",
    "**Conclusion - Working day has some effect on the number of electric cycles rented**"
   ]
  },
  {
   "cell_type": "markdown",
   "id": "f291d27b",
   "metadata": {},
   "source": [
    "## **2. Check whether weather is dependent on season**\n",
    "\n",
    "**Note: As there is only one data point for weather 4, test is performed for weather conditions 1,2&3**\n",
    "\n",
    "*Null Hypothesis*\n",
    "- H0 - Weather is independent on season\n",
    "    - Proportion of all 3 weathers are same on all seasons\n",
    "\n",
    "*Alternate Hypothesis*\n",
    "- H1 - Weather is dependent on season\n",
    "    - Proportion of different weathers are different across season\n",
    "    \n",
    "*Hypothesis Test*\n",
    "- 4x3 Chi-square test of independence\n",
    "    - Rows: Season - 1, 2, 3 & 4\n",
    "    - Cols: Weather - 1, 2 & 3\n",
    "    - *Non-parametric test*\n",
    "    \n",
    "*Significance level*\n",
    "- alpha = 5%\n",
    "\n",
    "*Test Statistic*\n",
    "- Tχ2 = Σ (Oi - Ei) / Ei\n",
    "    - Chi-square distribution(dof)"
   ]
  },
  {
   "cell_type": "code",
   "execution_count": 110,
   "id": "72304051",
   "metadata": {},
   "outputs": [
    {
     "data": {
      "text/html": [
       "<div>\n",
       "<style scoped>\n",
       "    .dataframe tbody tr th:only-of-type {\n",
       "        vertical-align: middle;\n",
       "    }\n",
       "\n",
       "    .dataframe tbody tr th {\n",
       "        vertical-align: top;\n",
       "    }\n",
       "\n",
       "    .dataframe thead th {\n",
       "        text-align: right;\n",
       "    }\n",
       "</style>\n",
       "<table border=\"1\" class=\"dataframe\">\n",
       "  <thead>\n",
       "    <tr style=\"text-align: right;\">\n",
       "      <th></th>\n",
       "      <th>season</th>\n",
       "      <th>weather</th>\n",
       "    </tr>\n",
       "  </thead>\n",
       "  <tbody>\n",
       "    <tr>\n",
       "      <th>0</th>\n",
       "      <td>1</td>\n",
       "      <td>1</td>\n",
       "    </tr>\n",
       "    <tr>\n",
       "      <th>1</th>\n",
       "      <td>1</td>\n",
       "      <td>1</td>\n",
       "    </tr>\n",
       "    <tr>\n",
       "      <th>2</th>\n",
       "      <td>1</td>\n",
       "      <td>1</td>\n",
       "    </tr>\n",
       "    <tr>\n",
       "      <th>3</th>\n",
       "      <td>1</td>\n",
       "      <td>1</td>\n",
       "    </tr>\n",
       "    <tr>\n",
       "      <th>4</th>\n",
       "      <td>1</td>\n",
       "      <td>1</td>\n",
       "    </tr>\n",
       "    <tr>\n",
       "      <th>...</th>\n",
       "      <td>...</td>\n",
       "      <td>...</td>\n",
       "    </tr>\n",
       "    <tr>\n",
       "      <th>10881</th>\n",
       "      <td>4</td>\n",
       "      <td>1</td>\n",
       "    </tr>\n",
       "    <tr>\n",
       "      <th>10882</th>\n",
       "      <td>4</td>\n",
       "      <td>1</td>\n",
       "    </tr>\n",
       "    <tr>\n",
       "      <th>10883</th>\n",
       "      <td>4</td>\n",
       "      <td>1</td>\n",
       "    </tr>\n",
       "    <tr>\n",
       "      <th>10884</th>\n",
       "      <td>4</td>\n",
       "      <td>1</td>\n",
       "    </tr>\n",
       "    <tr>\n",
       "      <th>10885</th>\n",
       "      <td>4</td>\n",
       "      <td>1</td>\n",
       "    </tr>\n",
       "  </tbody>\n",
       "</table>\n",
       "<p>10886 rows × 2 columns</p>\n",
       "</div>"
      ],
      "text/plain": [
       "       season  weather\n",
       "0           1        1\n",
       "1           1        1\n",
       "2           1        1\n",
       "3           1        1\n",
       "4           1        1\n",
       "...       ...      ...\n",
       "10881       4        1\n",
       "10882       4        1\n",
       "10883       4        1\n",
       "10884       4        1\n",
       "10885       4        1\n",
       "\n",
       "[10886 rows x 2 columns]"
      ]
     },
     "execution_count": 110,
     "metadata": {},
     "output_type": "execute_result"
    }
   ],
   "source": [
    "df[['season','weather']]"
   ]
  },
  {
   "cell_type": "code",
   "execution_count": 111,
   "id": "64a516ed",
   "metadata": {},
   "outputs": [
    {
     "data": {
      "text/html": [
       "<div>\n",
       "<style scoped>\n",
       "    .dataframe tbody tr th:only-of-type {\n",
       "        vertical-align: middle;\n",
       "    }\n",
       "\n",
       "    .dataframe tbody tr th {\n",
       "        vertical-align: top;\n",
       "    }\n",
       "\n",
       "    .dataframe thead th {\n",
       "        text-align: right;\n",
       "    }\n",
       "</style>\n",
       "<table border=\"1\" class=\"dataframe\">\n",
       "  <thead>\n",
       "    <tr style=\"text-align: right;\">\n",
       "      <th></th>\n",
       "      <th>datetime</th>\n",
       "      <th>season</th>\n",
       "      <th>holiday</th>\n",
       "      <th>workingday</th>\n",
       "      <th>weather</th>\n",
       "      <th>temp</th>\n",
       "      <th>atemp</th>\n",
       "      <th>humidity</th>\n",
       "      <th>windspeed</th>\n",
       "      <th>casual</th>\n",
       "      <th>registered</th>\n",
       "      <th>count</th>\n",
       "      <th>month</th>\n",
       "      <th>year</th>\n",
       "      <th>hour</th>\n",
       "      <th>week</th>\n",
       "    </tr>\n",
       "  </thead>\n",
       "  <tbody>\n",
       "    <tr>\n",
       "      <th>5631</th>\n",
       "      <td>2012-01-09 18:00:00</td>\n",
       "      <td>1</td>\n",
       "      <td>0</td>\n",
       "      <td>1</td>\n",
       "      <td>4</td>\n",
       "      <td>8.2</td>\n",
       "      <td>11.365</td>\n",
       "      <td>86</td>\n",
       "      <td>6.0032</td>\n",
       "      <td>6</td>\n",
       "      <td>158</td>\n",
       "      <td>164</td>\n",
       "      <td>1</td>\n",
       "      <td>2012</td>\n",
       "      <td>18</td>\n",
       "      <td>0</td>\n",
       "    </tr>\n",
       "  </tbody>\n",
       "</table>\n",
       "</div>"
      ],
      "text/plain": [
       "                datetime  season  holiday  workingday  weather  temp   atemp  \\\n",
       "5631 2012-01-09 18:00:00       1        0           1        4   8.2  11.365   \n",
       "\n",
       "      humidity  windspeed  casual  registered  count  month  year  hour  week  \n",
       "5631        86     6.0032       6         158    164      1  2012    18     0  "
      ]
     },
     "execution_count": 111,
     "metadata": {},
     "output_type": "execute_result"
    }
   ],
   "source": [
    "df[df['weather']==4]"
   ]
  },
  {
   "cell_type": "code",
   "execution_count": 112,
   "id": "cc4dbe81",
   "metadata": {},
   "outputs": [],
   "source": [
    "df_chi = df.drop(index=5631)\n",
    "contingency = pd.crosstab(df_chi['season'], df_chi['weather'])"
   ]
  },
  {
   "cell_type": "code",
   "execution_count": 113,
   "id": "49f98493",
   "metadata": {},
   "outputs": [
    {
     "data": {
      "text/html": [
       "<div>\n",
       "<style scoped>\n",
       "    .dataframe tbody tr th:only-of-type {\n",
       "        vertical-align: middle;\n",
       "    }\n",
       "\n",
       "    .dataframe tbody tr th {\n",
       "        vertical-align: top;\n",
       "    }\n",
       "\n",
       "    .dataframe thead th {\n",
       "        text-align: right;\n",
       "    }\n",
       "</style>\n",
       "<table border=\"1\" class=\"dataframe\">\n",
       "  <thead>\n",
       "    <tr style=\"text-align: right;\">\n",
       "      <th>weather</th>\n",
       "      <th>1</th>\n",
       "      <th>2</th>\n",
       "      <th>3</th>\n",
       "      <th>All</th>\n",
       "    </tr>\n",
       "    <tr>\n",
       "      <th>season</th>\n",
       "      <th></th>\n",
       "      <th></th>\n",
       "      <th></th>\n",
       "      <th></th>\n",
       "    </tr>\n",
       "  </thead>\n",
       "  <tbody>\n",
       "    <tr>\n",
       "      <th>1</th>\n",
       "      <td>1759</td>\n",
       "      <td>715</td>\n",
       "      <td>211</td>\n",
       "      <td>2685</td>\n",
       "    </tr>\n",
       "    <tr>\n",
       "      <th>2</th>\n",
       "      <td>1801</td>\n",
       "      <td>708</td>\n",
       "      <td>224</td>\n",
       "      <td>2733</td>\n",
       "    </tr>\n",
       "    <tr>\n",
       "      <th>3</th>\n",
       "      <td>1930</td>\n",
       "      <td>604</td>\n",
       "      <td>199</td>\n",
       "      <td>2733</td>\n",
       "    </tr>\n",
       "    <tr>\n",
       "      <th>4</th>\n",
       "      <td>1702</td>\n",
       "      <td>807</td>\n",
       "      <td>225</td>\n",
       "      <td>2734</td>\n",
       "    </tr>\n",
       "    <tr>\n",
       "      <th>All</th>\n",
       "      <td>7192</td>\n",
       "      <td>2834</td>\n",
       "      <td>859</td>\n",
       "      <td>10885</td>\n",
       "    </tr>\n",
       "  </tbody>\n",
       "</table>\n",
       "</div>"
      ],
      "text/plain": [
       "weather     1     2    3    All\n",
       "season                         \n",
       "1        1759   715  211   2685\n",
       "2        1801   708  224   2733\n",
       "3        1930   604  199   2733\n",
       "4        1702   807  225   2734\n",
       "All      7192  2834  859  10885"
      ]
     },
     "execution_count": 113,
     "metadata": {},
     "output_type": "execute_result"
    }
   ],
   "source": [
    "#Observed frequency\n",
    "pd.crosstab(df_chi['season'], df_chi['weather'], margins=True)"
   ]
  },
  {
   "cell_type": "code",
   "execution_count": 114,
   "id": "85b8412b",
   "metadata": {},
   "outputs": [
    {
     "data": {
      "image/png": "[encoded data removed]",
      "text/plain": [
       "<Figure size 432x288 with 2 Axes>"
      ]
     },
     "metadata": {
      "needs_background": "light"
     },
     "output_type": "display_data"
    }
   ],
   "source": [
    "sns.heatmap(pd.crosstab(df_chi['season'], df_chi['weather'], normalize=True), annot=True, cmap=\"YlGnBu\")\n",
    "plt.show()"
   ]
  },
  {
   "cell_type": "code",
   "execution_count": 115,
   "id": "712db9d6",
   "metadata": {},
   "outputs": [],
   "source": [
    "#Chi-square test of independence\n",
    "def chis_test(contingency, alpha):   \n",
    "\n",
    "    #test statistic and p-value\n",
    "    t_stat, p_val, dof, exp_val = stats.chi2_contingency(contingency)\n",
    "    \n",
    "    print('Observed frequency:', '\\n', contingency.values, '\\n')\n",
    "    print('Expected frequency:', '\\n', exp_val, '\\n')\n",
    "    print('Degrees of freedom:', dof)\n",
    "    print('Test Statistic:', t_stat)\n",
    "    print('P value:', p_val)\n",
    "\n",
    "    t_val = round(stats.chi2.ppf(q = 1-alpha, df = dof), 2)\n",
    "    print('Critical Value of Chi-square test:', t_val)\n",
    "    print('Significance level:', alpha)\n",
    "    print()\n",
    "\n",
    "    if abs(t_stat) < t_val :\n",
    "        print('test statistic < critical value of test so, fail to reject the null hypothesis ')\n",
    "    else:\n",
    "        print('test statistic > critical value of test so, reject the null hypothesis ')"
   ]
  },
  {
   "cell_type": "code",
   "execution_count": 116,
   "id": "c0fddc6c",
   "metadata": {},
   "outputs": [
    {
     "name": "stdout",
     "output_type": "stream",
     "text": [
      "Observed frequency: \n",
      " [[1759  715  211]\n",
      " [1801  708  224]\n",
      " [1930  604  199]\n",
      " [1702  807  225]] \n",
      "\n",
      "Expected frequency: \n",
      " [[1774.04869086  699.06201194  211.8892972 ]\n",
      " [1805.76352779  711.55920992  215.67726229]\n",
      " [1805.76352779  711.55920992  215.67726229]\n",
      " [1806.42425356  711.81956821  215.75617823]] \n",
      "\n",
      "Degrees of freedom: 6\n",
      "Test Statistic: 46.10145731073249\n",
      "P value: 2.8260014509929343e-08\n",
      "Critical Value of Chi-square test: 12.59\n",
      "Significance level: 0.05\n",
      "\n",
      "test statistic > critical value of test so, reject the null hypothesis \n"
     ]
    }
   ],
   "source": [
    "chis_test(contingency, 0.05)"
   ]
  },
  {
   "cell_type": "markdown",
   "id": "57d74289",
   "metadata": {},
   "source": [
    "### **Inference from the analysis**\n",
    "\n",
    "- Test Statistic: 46.10\n",
    "- Critical value of test: 12.59\n",
    "- P value: 2.8e-08\n",
    "\n",
    "*As the test statistic is greater than the critical value of the test, we can reject the null hypothesis at 5% level of significance*<br>\n",
    "*As the p-value is smaller than the test significance level, we can reject the null hypothesis*\n",
    "\n",
    "**Conclusion - Weather has some dependency on season**"
   ]
  },
  {
   "cell_type": "markdown",
   "id": "03e45e46",
   "metadata": {},
   "source": [
    "## **3. Check whether no. of cycles rented similar or different in different seasons**\n",
    "\n",
    "*Null Hypothesis*\n",
    "- H0 - Average number of cycles rented are similar in all seasons\n",
    "    - There is no difference between mean count in different seasons\n",
    "\n",
    "*Alternate Hypothesis*\n",
    "- H1 - Average number of cycles rented are different in different seasons\n",
    "    - There is some difference between mean count across seasons\n",
    "    \n",
    "*Hypothesis Test*\n",
    "- One way ANOVA of comparison of means\n",
    "    - Independent variable: seasons- 1, 2, 3 & 4\n",
    "    - Dependent variable: Mean count of cycles rented\n",
    "    - Assumptions:\n",
    "        1. Each group's data are gaussian distributed\n",
    "        2. Variance of each group is the same\n",
    "        3. Observations are independent of one another\n",
    "    \n",
    "*Significance level*\n",
    "- alpha = 5%\n",
    "\n",
    "*Test Statistic*\n",
    "- f = MSB/MSW\n",
    "    - F-distribution(k-1, n-k)\n",
    "        - k: Number of seasons\n",
    "        - m: Number of cycles rented per season\n",
    "        - n = m*k"
   ]
  },
  {
   "cell_type": "code",
   "execution_count": 117,
   "id": "e7315b60",
   "metadata": {},
   "outputs": [
    {
     "data": {
      "text/plain": [
       "4    2734\n",
       "2    2733\n",
       "3    2733\n",
       "1    2686\n",
       "Name: season, dtype: int64"
      ]
     },
     "execution_count": 117,
     "metadata": {},
     "output_type": "execute_result"
    }
   ],
   "source": [
    "df['season'].value_counts()"
   ]
  },
  {
   "cell_type": "code",
   "execution_count": 118,
   "id": "933ad0f4",
   "metadata": {},
   "outputs": [
    {
     "data": {
      "image/png": "[encoded data removed]",
      "text/plain": [
       "<Figure size 432x288 with 1 Axes>"
      ]
     },
     "metadata": {
      "needs_background": "light"
     },
     "output_type": "display_data"
    }
   ],
   "source": [
    "sns.boxplot(data=df, y='count', x='season')\n",
    "plt.show()"
   ]
  },
  {
   "cell_type": "code",
   "execution_count": 119,
   "id": "3a7ada42",
   "metadata": {},
   "outputs": [],
   "source": [
    "#Splitting data into different groups\n",
    "\n",
    "df_s1 = np.random.choice(df[df['season']==1]['count'], size=2500)\n",
    "df_s2 = np.random.choice(df[df['season']==2]['count'], size=2500)\n",
    "df_s3 = np.random.choice(df[df['season']==3]['count'], size=2500)\n",
    "df_s4 = np.random.choice(df[df['season']==4]['count'], size=2500)"
   ]
  },
  {
   "cell_type": "code",
   "execution_count": 120,
   "id": "b099d8e5",
   "metadata": {},
   "outputs": [
    {
     "data": {
      "image/png": "[encoded data removed]",
      "text/plain": [
       "<Figure size 864x432 with 4 Axes>"
      ]
     },
     "metadata": {
      "needs_background": "light"
     },
     "output_type": "display_data"
    }
   ],
   "source": [
    "plt.figure(figsize=(12,6))\n",
    "\n",
    "plt.subplot(221)\n",
    "sns.histplot(data=df_s1)\n",
    "plt.subplot(222)\n",
    "sns.histplot(data=df_s2)\n",
    "plt.subplot(223)\n",
    "sns.histplot(data=df_s3)\n",
    "plt.subplot(224)\n",
    "sns.histplot(data=df_s4)\n",
    "\n",
    "plt.show()"
   ]
  },
  {
   "cell_type": "code",
   "execution_count": 121,
   "id": "a4dc59fd",
   "metadata": {},
   "outputs": [],
   "source": [
    "#Tranforming data to normal distribution using boxcox transform\n",
    "df_s1_trans = stats.boxcox(df_s1)[0]\n",
    "df_s2_trans = stats.boxcox(df_s2)[0]\n",
    "df_s3_trans = stats.boxcox(df_s3)[0]\n",
    "df_s4_trans = stats.boxcox(df_s4)[0]"
   ]
  },
  {
   "cell_type": "code",
   "execution_count": 122,
   "id": "ec2ca252",
   "metadata": {},
   "outputs": [
    {
     "data": {
      "image/png": "[encoded data removed]",
      "text/plain": [
       "<Figure size 864x432 with 4 Axes>"
      ]
     },
     "metadata": {
      "needs_background": "light"
     },
     "output_type": "display_data"
    }
   ],
   "source": [
    "plt.figure(figsize=(12,6))\n",
    "\n",
    "plt.subplot(221)\n",
    "sns.histplot(data=df_s1_trans)\n",
    "plt.subplot(222)\n",
    "sns.histplot(data=df_s2_trans)\n",
    "plt.subplot(223)\n",
    "sns.histplot(data=df_s3_trans)\n",
    "plt.subplot(224)\n",
    "sns.histplot(data=df_s4_trans)\n",
    "\n",
    "plt.show()"
   ]
  },
  {
   "cell_type": "code",
   "execution_count": 123,
   "id": "1272599a",
   "metadata": {},
   "outputs": [
    {
     "data": {
      "image/png": "[encoded data removed]",
      "text/plain": [
       "<Figure size 432x288 with 1 Axes>"
      ]
     },
     "metadata": {
      "needs_background": "light"
     },
     "output_type": "display_data"
    }
   ],
   "source": [
    "#QQ Plot for normality check\n",
    "sm.qqplot(df_s1_trans, fit=True, line='r')\n",
    "plt.show()"
   ]
  },
  {
   "cell_type": "code",
   "execution_count": 124,
   "id": "7db684db",
   "metadata": {},
   "outputs": [
    {
     "data": {
      "text/plain": [
       "LeveneResult(statistic=182.1159801603729, pvalue=5.632170207150126e-115)"
      ]
     },
     "execution_count": 124,
     "metadata": {},
     "output_type": "execute_result"
    }
   ],
   "source": [
    "#Levene's test for equality of variance\n",
    "stats.levene(df_s1, df_s2, df_s3, df_s4)"
   ]
  },
  {
   "cell_type": "markdown",
   "id": "e035896f",
   "metadata": {},
   "source": [
    "**Transformation of data did not make the distribution gaussian<br>\n",
    "  Levene's transform shows extremely low p-value indicates, variances are not equal even at 0.1% significance level<br>\n",
    "  however, proceeding with anova anyways**"
   ]
  },
  {
   "cell_type": "code",
   "execution_count": 125,
   "id": "f6f0f7a2",
   "metadata": {},
   "outputs": [
    {
     "data": {
      "text/plain": [
       "F_onewayResult(statistic=224.92741798176974, pvalue=3.2336983644466415e-141)"
      ]
     },
     "execution_count": 125,
     "metadata": {},
     "output_type": "execute_result"
    }
   ],
   "source": [
    "#Test statistic and p-value\n",
    "stats.f_oneway(df_s1, df_s2, df_s3, df_s4)"
   ]
  },
  {
   "cell_type": "code",
   "execution_count": 126,
   "id": "e327e0fc",
   "metadata": {},
   "outputs": [
    {
     "data": {
      "text/plain": [
       "2.6057974276112974"
      ]
     },
     "execution_count": 126,
     "metadata": {},
     "output_type": "execute_result"
    }
   ],
   "source": [
    "#Critical value of test statistic - parameters: q, dfn, dfd\n",
    "stats.f.ppf(1-0.05, 3, 9996)"
   ]
  },
  {
   "cell_type": "markdown",
   "id": "6cc6756a",
   "metadata": {},
   "source": [
    "### **Inference from the analysis**\n",
    "\n",
    "- Test Statistic: 210.79\n",
    "- Critical value of test: 2.61\n",
    "- P value: 1.4e-132\n",
    "\n",
    "*As the test statistic is greater than the critical value of the test, we can reject the null hypothesis at 5% level of significance*<br>\n",
    "*As the p-value is smaller than the test significance level, we can reject the null hypothesis*\n",
    "\n",
    "**Conclusion - Average number of cycles rented are different in different seasons**"
   ]
  },
  {
   "cell_type": "markdown",
   "id": "6cef421f",
   "metadata": {},
   "source": [
    "## **4. Check whether no. of cycles rented similar or different in different weather**\n",
    "\n",
    "**Note:As there is only one data point for weather 4, test is performed for weather conditions 1,2&3**\n",
    "\n",
    "*Null Hypothesis*\n",
    "- H0 - Average number of cycles rented are similar in all weather conditions\n",
    "    - There is no difference between mean count in different weather\n",
    "\n",
    "*Alternate Hypothesis*\n",
    "- H1 - Average number of cycles rented are different in different weather conditions\n",
    "    - There is some difference between mean count across different weather\n",
    "    \n",
    "*Hypothesis Test*\n",
    "- One way ANOVA of comparison of means\n",
    "    - Independent variable: weather- 1, 2 & 3\n",
    "    - Dependent variable: Mean count of cycles rented\n",
    "    - Assumptions:\n",
    "        1. Each group's data are gaussian distributed\n",
    "        2. Variance of each group is the same\n",
    "        3. Observations are independent of one another\n",
    "    \n",
    "*Significance level*\n",
    "- alpha = 5%\n",
    "\n",
    "*Test Statistic*\n",
    "- f = MSB/MSW\n",
    "    - F-distribution(k-1, n-k)\n",
    "        - k: Number of weather conditions\n",
    "        - m: Number of cycles rented per weather condition\n",
    "        - n = m*k"
   ]
  },
  {
   "cell_type": "code",
   "execution_count": 127,
   "id": "69449c0e",
   "metadata": {},
   "outputs": [
    {
     "data": {
      "text/plain": [
       "1    7192\n",
       "2    2834\n",
       "3     859\n",
       "4       1\n",
       "Name: weather, dtype: int64"
      ]
     },
     "execution_count": 127,
     "metadata": {},
     "output_type": "execute_result"
    }
   ],
   "source": [
    "df['weather'].value_counts()"
   ]
  },
  {
   "cell_type": "code",
   "execution_count": 128,
   "id": "b4529510",
   "metadata": {},
   "outputs": [
    {
     "data": {
      "text/html": [
       "<div>\n",
       "<style scoped>\n",
       "    .dataframe tbody tr th:only-of-type {\n",
       "        vertical-align: middle;\n",
       "    }\n",
       "\n",
       "    .dataframe tbody tr th {\n",
       "        vertical-align: top;\n",
       "    }\n",
       "\n",
       "    .dataframe thead th {\n",
       "        text-align: right;\n",
       "    }\n",
       "</style>\n",
       "<table border=\"1\" class=\"dataframe\">\n",
       "  <thead>\n",
       "    <tr style=\"text-align: right;\">\n",
       "      <th></th>\n",
       "      <th>datetime</th>\n",
       "      <th>season</th>\n",
       "      <th>holiday</th>\n",
       "      <th>workingday</th>\n",
       "      <th>weather</th>\n",
       "      <th>temp</th>\n",
       "      <th>atemp</th>\n",
       "      <th>humidity</th>\n",
       "      <th>windspeed</th>\n",
       "      <th>casual</th>\n",
       "      <th>registered</th>\n",
       "      <th>count</th>\n",
       "      <th>month</th>\n",
       "      <th>year</th>\n",
       "      <th>hour</th>\n",
       "      <th>week</th>\n",
       "    </tr>\n",
       "  </thead>\n",
       "  <tbody>\n",
       "    <tr>\n",
       "      <th>5631</th>\n",
       "      <td>2012-01-09 18:00:00</td>\n",
       "      <td>1</td>\n",
       "      <td>0</td>\n",
       "      <td>1</td>\n",
       "      <td>4</td>\n",
       "      <td>8.2</td>\n",
       "      <td>11.365</td>\n",
       "      <td>86</td>\n",
       "      <td>6.0032</td>\n",
       "      <td>6</td>\n",
       "      <td>158</td>\n",
       "      <td>164</td>\n",
       "      <td>1</td>\n",
       "      <td>2012</td>\n",
       "      <td>18</td>\n",
       "      <td>0</td>\n",
       "    </tr>\n",
       "  </tbody>\n",
       "</table>\n",
       "</div>"
      ],
      "text/plain": [
       "                datetime  season  holiday  workingday  weather  temp   atemp  \\\n",
       "5631 2012-01-09 18:00:00       1        0           1        4   8.2  11.365   \n",
       "\n",
       "      humidity  windspeed  casual  registered  count  month  year  hour  week  \n",
       "5631        86     6.0032       6         158    164      1  2012    18     0  "
      ]
     },
     "execution_count": 128,
     "metadata": {},
     "output_type": "execute_result"
    }
   ],
   "source": [
    "df[df['weather']==4]"
   ]
  },
  {
   "cell_type": "code",
   "execution_count": 129,
   "id": "ac9fbe3f",
   "metadata": {},
   "outputs": [],
   "source": [
    "df_an = df.drop(index=5631)"
   ]
  },
  {
   "cell_type": "code",
   "execution_count": 130,
   "id": "4094b4e6",
   "metadata": {},
   "outputs": [
    {
     "data": {
      "text/plain": [
       "1    7192\n",
       "2    2834\n",
       "3     859\n",
       "Name: weather, dtype: int64"
      ]
     },
     "execution_count": 130,
     "metadata": {},
     "output_type": "execute_result"
    }
   ],
   "source": [
    "df_an['weather'].value_counts()"
   ]
  },
  {
   "cell_type": "code",
   "execution_count": 131,
   "id": "6f029909",
   "metadata": {},
   "outputs": [
    {
     "data": {
      "image/png": "[encoded data removed]",
      "text/plain": [
       "<Figure size 432x288 with 1 Axes>"
      ]
     },
     "metadata": {
      "needs_background": "light"
     },
     "output_type": "display_data"
    }
   ],
   "source": [
    "sns.boxplot(data=df_an, y='count', x='weather')\n",
    "plt.show()"
   ]
  },
  {
   "cell_type": "code",
   "execution_count": 132,
   "id": "c6c5c512",
   "metadata": {},
   "outputs": [],
   "source": [
    "#Splitting data into different groups\n",
    "\n",
    "df_s1 = np.random.choice(df[df['weather']==1]['count'], size=800)\n",
    "df_s2 = np.random.choice(df[df['weather']==2]['count'], size=800)\n",
    "df_s3 = np.random.choice(df[df['weather']==3]['count'], size=800)"
   ]
  },
  {
   "cell_type": "code",
   "execution_count": 133,
   "id": "d1816409",
   "metadata": {},
   "outputs": [
    {
     "data": {
      "image/png": "[encoded data removed]",
      "text/plain": [
       "<Figure size 1152x288 with 3 Axes>"
      ]
     },
     "metadata": {
      "needs_background": "light"
     },
     "output_type": "display_data"
    }
   ],
   "source": [
    "plt.figure(figsize=(16,4))\n",
    "\n",
    "plt.subplot(131)\n",
    "sns.histplot(data=df_s1)\n",
    "plt.subplot(132)\n",
    "sns.histplot(data=df_s2)\n",
    "plt.subplot(133)\n",
    "sns.histplot(data=df_s3)\n",
    "\n",
    "plt.show()"
   ]
  },
  {
   "cell_type": "code",
   "execution_count": 134,
   "id": "15d6f788",
   "metadata": {},
   "outputs": [],
   "source": [
    "#Tranforming data to normal distribution using boxcox transform\n",
    "df_s1_trans = stats.boxcox(df_s1)[0]\n",
    "df_s2_trans = stats.boxcox(df_s2)[0]\n",
    "df_s3_trans = stats.boxcox(df_s3)[0]"
   ]
  },
  {
   "cell_type": "code",
   "execution_count": 135,
   "id": "cadcb131",
   "metadata": {},
   "outputs": [
    {
     "data": {
      "image/png": "[encoded data removed]",
      "text/plain": [
       "<Figure size 432x288 with 1 Axes>"
      ]
     },
     "metadata": {
      "needs_background": "light"
     },
     "output_type": "display_data"
    }
   ],
   "source": [
    "#QQ Plot\n",
    "sm.qqplot(df_s1_trans, fit=True, line='r')\n",
    "plt.show()"
   ]
  },
  {
   "cell_type": "code",
   "execution_count": 136,
   "id": "51a81dc9",
   "metadata": {},
   "outputs": [
    {
     "data": {
      "text/plain": [
       "ShapiroResult(statistic=0.9816222190856934, pvalue=1.7576606836655628e-08)"
      ]
     },
     "execution_count": 136,
     "metadata": {},
     "output_type": "execute_result"
    }
   ],
   "source": [
    "#Shapiro-Wilk test for normality\n",
    "stats.shapiro(df_s1_trans)"
   ]
  },
  {
   "cell_type": "markdown",
   "id": "4452a322",
   "metadata": {},
   "source": [
    "**Extremely low p-value from Shapiro-Wilk test shows that the distribution is not normal even at 0.1% level of significance<br>\n",
    "  Transformation of data did not make the distribution gaussian<br>\n",
    "  Levene's transform shows extremely low p-value indicates, variances are not equal even at 0.1% significance level<br>\n",
    "  however, proceeding with anova anyways**"
   ]
  },
  {
   "cell_type": "code",
   "execution_count": 137,
   "id": "57a80e4a",
   "metadata": {},
   "outputs": [
    {
     "data": {
      "text/plain": [
       "F_onewayResult(statistic=55.52491746497069, pvalue=2.67762050487265e-24)"
      ]
     },
     "execution_count": 137,
     "metadata": {},
     "output_type": "execute_result"
    }
   ],
   "source": [
    "#Test statistic and p-value\n",
    "stats.f_oneway(df_s1, df_s2, df_s3)"
   ]
  },
  {
   "cell_type": "code",
   "execution_count": 138,
   "id": "3748a3b3",
   "metadata": {},
   "outputs": [
    {
     "data": {
      "text/plain": [
       "2.999479413275762"
      ]
     },
     "execution_count": 138,
     "metadata": {},
     "output_type": "execute_result"
    }
   ],
   "source": [
    "#Critical value of test, Parameters: q, dfn, dfd\n",
    "stats.f.ppf(1-0.05, 2, 2397)"
   ]
  },
  {
   "cell_type": "markdown",
   "id": "bae72ba9",
   "metadata": {},
   "source": [
    "### **Inference from the analysis**\n",
    "\n",
    "- Test Statistic: 62.431\n",
    "- Critical value of test: 2.999\n",
    "- P value: 3.7e-27\n",
    "\n",
    "*As the test statistic is greater than the critical value of the test, we can reject the null hypothesis at 5% level of significance*<br>\n",
    "*As the p-value is smaller than the test significance level, we can reject the null hypothesis*\n",
    "\n",
    "**Conclusion - Average number of cycles rented are different in different weather conditions**"
   ]
  },
  {
   "cell_type": "markdown",
   "id": "b02f0e55",
   "metadata": {},
   "source": [
    "## **Insights from above statistical tests**\n",
    "\n",
    "1. Working day has some effect on the number of electric cycles rented if some outliers are removed from the sample<br><br>\n",
    "2. Weather has some dependency on season<br><br>\n",
    "3. Average number of cycles rented are different in different seasons<br><br>\n",
    "4. Average number of cycles rented are different in different weather conditions<br><br>"
   ]
  },
  {
   "cell_type": "markdown",
   "id": "8fd95c94",
   "metadata": {},
   "source": [
    "## **Factors that are significant in predicting the demand**\n",
    "\n",
    "- Season: People tend to use cycles more in Summer and Fall and least in Spring\n",
    "- Weather: The demand for cycles decreases as the weather gets more and more extreme\n",
    "- Temperature: Cycle demands fall if the temperature outside is too cold\n",
    "- Humidity: Usage is inversely proportional to humidity, as humidity rises, demand falls\n",
    "\n",
    "## **Recommendations**\n",
    "\n",
    "1. Some of the cycles could be shipped to other places in spring as the demand tend to be the lowest<br><br>\n",
    "2. Some incentives can be provided to the registered users on holidays and weekends as the usage by casual users increase these days<br><br>\n",
    "3. Usage price can be reduced when the weather gets extreme and the price should be increased if the weather is clear/partly cloudy<br><br>\n",
    "4. Converting more casual users could improve revenue as the usage by registered users tend to be more consistent at changing day-to-day conditions<br><br>\n",
    "5. Dynamic pricing could be implemented on hourly basis as the demand curve shows two peaks, one at 8-9 in the morning, other at 5-7 in the evening<br><br>\n",
    "6. There is a scope for experiment with pricing based on temperature and humidity as the former is directly and latter one is inversely related to demand<br><br>"
   ]
  },
  {
   "cell_type": "code",
   "execution_count": null,
   "id": "847fbb28",
   "metadata": {},
   "outputs": [],
   "source": []
  }
 ],
 "metadata": {
  "kernelspec": {
   "display_name": "Python 3 (ipykernel)",
   "language": "python",
   "name": "python3"
  },
  "language_info": {
   "codemirror_mode": {
    "name": "ipython",
    "version": 3
   },
   "file_extension": ".py",
   "mimetype": "text/x-python",
   "name": "python",
   "nbconvert_exporter": "python",
   "pygments_lexer": "ipython3",
   "version": "3.8.10"
  }
 },
 "nbformat": 4,
 "nbformat_minor": 5
}
